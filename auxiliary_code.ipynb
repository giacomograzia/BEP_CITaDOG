{
 "cells": [
  {
   "cell_type": "markdown",
   "metadata": {},
   "source": [
    "### Dropping Redundant Columns from Google Sheet"
   ]
  },
  {
   "cell_type": "code",
   "execution_count": 1,
   "metadata": {},
   "outputs": [],
   "source": [
    "import pandas as pd\n",
    "import spacy"
   ]
  },
  {
   "cell_type": "code",
   "execution_count": 16,
   "metadata": {},
   "outputs": [],
   "source": [
    "df = pd.read_csv('data_giacomo_cleaned_restriced.csv')"
   ]
  },
  {
   "cell_type": "code",
   "execution_count": 52,
   "metadata": {},
   "outputs": [],
   "source": [
    "pd.reset_option('display.max_colwidth')\n"
   ]
  },
  {
   "cell_type": "code",
   "execution_count": 17,
   "metadata": {},
   "outputs": [],
   "source": [
    "df.drop(columns=['Unnamed: 13', 'Unnamed: 14', \n",
    "                 'Unnamed: 15', 'headline', \n",
    "                 'description', 'file_link', \n",
    "                 'Harry_label','Giacomo_label', \n",
    "                 'Johan_label', 'Translation', \n",
    "                 'Random Index'], inplace=True)"
   ]
  },
  {
   "cell_type": "code",
   "execution_count": 19,
   "metadata": {},
   "outputs": [],
   "source": [
    "df.to_csv('data_giacomo_cleaned_restriced.csv', index=False)"
   ]
  },
  {
   "cell_type": "markdown",
   "metadata": {},
   "source": [
    "### Adding Labels to dataset"
   ]
  },
  {
   "cell_type": "code",
   "execution_count": 55,
   "metadata": {},
   "outputs": [],
   "source": [
    "# no_labels_df = pd.read_csv('df_merged_FULL_corrected_spelling_last.csv')\n",
    "labels_df = pd.read_csv('data_giacomo_cleaned_restriced.csv')\n",
    "\n",
    "df_merged = pd.merge(\n",
    "    no_labels_df,\n",
    "    labels_df,\n",
    "    on=['id', 'file_number'],\n",
    "    how='inner'  # 'inner' keeps only matching rows\n",
    ")\n",
    "\n",
    "df_merged.drop(columns=['parties_list'], inplace=True)\n",
    "df_merged.to_csv('df_merged_FULL_corrected_spelling_last.csv', index=False)"
   ]
  },
  {
   "cell_type": "code",
   "execution_count": null,
   "metadata": {},
   "outputs": [],
   "source": [
    "df_merged.columns"
   ]
  },
  {
   "cell_type": "markdown",
   "metadata": {},
   "source": [
    "### 4.2 Ontvanger"
   ]
  },
  {
   "cell_type": "markdown",
   "metadata": {},
   "source": [
    "#### Preprocessing"
   ]
  },
  {
   "cell_type": "code",
   "execution_count": null,
   "metadata": {},
   "outputs": [],
   "source": [
    "df_merged = pd.read_csv('df_merged_FULL_corrected_spelling_last.csv')\n",
    "\n",
    "# Convert the 'party_labeled' column into lists by splitting on commas\n",
    "df_merged['party_labeled'] = df_merged['party_labeled'].apply(lambda x: x.split(',') if pd.notnull(x) else [])\n",
    "df_merged['headline_and_description'] = df_merged['headline'] + '. ' + df_merged['description']\n",
    "\n",
    "df_merged.sample(2)"
   ]
  },
  {
   "cell_type": "code",
   "execution_count": 401,
   "metadata": {},
   "outputs": [
    {
     "name": "stdout",
     "output_type": "stream",
     "text": [
      "Number of rows removed: 26\n"
     ]
    }
   ],
   "source": [
    "# Filter out rows where 'parties' is exactly 'Leveringsvergunningen Kleinverbruik Ex Art. 45 Gaswet'\n",
    "df_merged_filtered = df_merged[\n",
    "    df_merged['parties'] != 'Leveringsvergunningen Kleinverbruik Ex Art. 45 Gaswet'\n",
    "].copy()\n",
    "\n",
    "\n",
    "# Optional: Display the number of rows removed\n",
    "print(f\"Number of rows removed: {len(df_merged) - len(df_merged_filtered)}\")"
   ]
  },
  {
   "cell_type": "markdown",
   "metadata": {},
   "source": [
    "#### Baseline NER"
   ]
  },
  {
   "cell_type": "code",
   "execution_count": 14,
   "metadata": {},
   "outputs": [],
   "source": [
    "pd.set_option('display.max_colwidth', None)"
   ]
  },
  {
   "cell_type": "code",
   "execution_count": 402,
   "metadata": {},
   "outputs": [
    {
     "data": {
      "text/html": [
       "<div>\n",
       "<style scoped>\n",
       "    .dataframe tbody tr th:only-of-type {\n",
       "        vertical-align: middle;\n",
       "    }\n",
       "\n",
       "    .dataframe tbody tr th {\n",
       "        vertical-align: top;\n",
       "    }\n",
       "\n",
       "    .dataframe thead th {\n",
       "        text-align: right;\n",
       "    }\n",
       "</style>\n",
       "<table border=\"1\" class=\"dataframe\">\n",
       "  <thead>\n",
       "    <tr style=\"text-align: right;\">\n",
       "      <th></th>\n",
       "      <th>party_labeled</th>\n",
       "      <th>organizations</th>\n",
       "    </tr>\n",
       "  </thead>\n",
       "  <tbody>\n",
       "    <tr>\n",
       "      <th>1</th>\n",
       "      <td>[TotalEnergies Gas &amp; Power Nederland B.V.]</td>\n",
       "      <td>[ACM]</td>\n",
       "    </tr>\n",
       "    <tr>\n",
       "      <th>17</th>\n",
       "      <td>[Gemeente Hengelo]</td>\n",
       "      <td>[ACM]</td>\n",
       "    </tr>\n",
       "    <tr>\n",
       "      <th>2</th>\n",
       "      <td>[HVC Energie B.V.]</td>\n",
       "      <td>[HVC, ACM, HVC]</td>\n",
       "    </tr>\n",
       "    <tr>\n",
       "      <th>5</th>\n",
       "      <td>[Energie der Nederlanden]</td>\n",
       "      <td>[ACM]</td>\n",
       "    </tr>\n",
       "    <tr>\n",
       "      <th>11</th>\n",
       "      <td>[e-Energy Europe B.V.]</td>\n",
       "      <td>[ACM]</td>\n",
       "    </tr>\n",
       "    <tr>\n",
       "      <th>0</th>\n",
       "      <td>[TotalEnergies Gas &amp; Power Nederland B.V.]</td>\n",
       "      <td>[ACM]</td>\n",
       "    </tr>\n",
       "    <tr>\n",
       "      <th>18</th>\n",
       "      <td>[Greenfoot Energy B.V.,  Energyhouse B.V.]</td>\n",
       "      <td>[]</td>\n",
       "    </tr>\n",
       "    <tr>\n",
       "      <th>6</th>\n",
       "      <td>[Holthausen Clean Energy B.V.]</td>\n",
       "      <td>[Clean Energy, ACM]</td>\n",
       "    </tr>\n",
       "    <tr>\n",
       "      <th>13</th>\n",
       "      <td>[Duurzame Energie Veenendaal-oost (DEVO) B.V.]</td>\n",
       "      <td>[ACM]</td>\n",
       "    </tr>\n",
       "    <tr>\n",
       "      <th>19</th>\n",
       "      <td>[Greenfoot Energy B.V.,  Energyhouse B.V.]</td>\n",
       "      <td>[]</td>\n",
       "    </tr>\n",
       "  </tbody>\n",
       "</table>\n",
       "</div>"
      ],
      "text/plain": [
       "                                     party_labeled        organizations\n",
       "1       [TotalEnergies Gas & Power Nederland B.V.]                [ACM]\n",
       "17                              [Gemeente Hengelo]                [ACM]\n",
       "2                               [HVC Energie B.V.]      [HVC, ACM, HVC]\n",
       "5                        [Energie der Nederlanden]                [ACM]\n",
       "11                          [e-Energy Europe B.V.]                [ACM]\n",
       "0       [TotalEnergies Gas & Power Nederland B.V.]                [ACM]\n",
       "18      [Greenfoot Energy B.V.,  Energyhouse B.V.]                   []\n",
       "6                   [Holthausen Clean Energy B.V.]  [Clean Energy, ACM]\n",
       "13  [Duurzame Energie Veenendaal-oost (DEVO) B.V.]                [ACM]\n",
       "19      [Greenfoot Energy B.V.,  Energyhouse B.V.]                   []"
      ]
     },
     "execution_count": 402,
     "metadata": {},
     "output_type": "execute_result"
    }
   ],
   "source": [
    "# Load the Dutch language model with NER capabilities\n",
    "nlp = spacy.load(\"nl_core_news_lg\")\n",
    "\n",
    "def extract_organizations(text: str) -> list:\n",
    "    \"\"\"\n",
    "    Extracts all organizations (ORG entities) from the provided text.\n",
    "    \n",
    "    :param text: A string containing the text to process.\n",
    "    :return: A list of organization names identified in the text.\n",
    "    \"\"\"\n",
    "    doc = nlp(text)\n",
    "    \n",
    "    # Extract and return all entities labeled as ORG\n",
    "    organizations = [ent.text for ent in doc.ents if ent.label_ == \"ORG\"]\n",
    "    return organizations\n",
    "\n",
    "df_temp = df_merged_filtered.head(20).copy()\n",
    "\n",
    "# Apply the function to extract organizations and store them in a new column\n",
    "df_temp['organizations'] = df_temp['headline_and_description'].apply(extract_organizations)\n",
    "\n",
    "df_temp[[\"party_labeled\", \"organizations\"]].sample(10, random_state=7)"
   ]
  },
  {
   "cell_type": "code",
   "execution_count": 403,
   "metadata": {},
   "outputs": [
    {
     "name": "stdout",
     "output_type": "stream",
     "text": [
      "\\begin{tabular}{lll}\n",
      "\\toprule\n",
      " & party_labeled & organizations \\\\\n",
      "\\midrule\n",
      "1 & ['TotalEnergies Gas & Power Nederland B.V.'] & ['ACM'] \\\\\n",
      "17 & ['Gemeente Hengelo'] & ['ACM'] \\\\\n",
      "2 & ['HVC Energie B.V.'] & ['HVC', 'ACM', 'HVC'] \\\\\n",
      "5 & ['Energie der Nederlanden'] & ['ACM'] \\\\\n",
      "11 & ['e-Energy Europe B.V.'] & ['ACM'] \\\\\n",
      "0 & ['TotalEnergies Gas & Power Nederland B.V.'] & ['ACM'] \\\\\n",
      "18 & ['Greenfoot Energy B.V.', ' Energyhouse B.V.'] & [] \\\\\n",
      "6 & ['Holthausen Clean Energy B.V.'] & ['Clean Energy', 'ACM'] \\\\\n",
      "13 & ['Duurzame Energie Veenendaal-oost (DEVO) B.V.'] & ['ACM'] \\\\\n",
      "19 & ['Greenfoot Energy B.V.', ' Energyhouse B.V.'] & [] \\\\\n",
      "\\bottomrule\n",
      "\\end{tabular}\n",
      "\n"
     ]
    }
   ],
   "source": [
    "print(df_temp[[\"party_labeled\", \"organizations\"]].sample(10, random_state=7).to_latex())"
   ]
  },
  {
   "cell_type": "markdown",
   "metadata": {},
   "source": [
    "#### Custom NER"
   ]
  },
  {
   "cell_type": "code",
   "execution_count": 405,
   "metadata": {},
   "outputs": [
    {
     "name": "stdout",
     "output_type": "stream",
     "text": [
      "Number of unique IDs: 286\n",
      "Number of decisions in the training set: 264\n",
      "Number of decisions in the test set: 69\n"
     ]
    }
   ],
   "source": [
    "from sklearn.model_selection import train_test_split\n",
    "\n",
    "# Perform a train-test split on unique 'id' values\n",
    "unique_ids = df_merged_filtered['id'].unique()\n",
    "\n",
    "# Split the unique IDs into train and test sets\n",
    "train_ids, test_ids = train_test_split(unique_ids, test_size=0.2, random_state=42)\n",
    "\n",
    "# Split the original dataframe based on the unique 'id'\n",
    "train_df = df_merged_filtered[df_merged_filtered['id'].isin(train_ids)]\n",
    "test_df = df_merged_filtered[df_merged_filtered['id'].isin(test_ids)]\n",
    "\n",
    "# Print the number of unique IDs\n",
    "print(f\"Number of unique IDs: {len(unique_ids)}\")\n",
    "\n",
    "# Print the number of decisions in the training set\n",
    "print(f\"Number of decisions in the training set: {len(train_df)}\")\n",
    "\n",
    "# Print the number of decisions in the test set\n",
    "print(f\"Number of decisions in the test set: {len(test_df)}\")"
   ]
  },
  {
   "cell_type": "markdown",
   "metadata": {},
   "source": [
    "### NER exact matches in train"
   ]
  },
  {
   "cell_type": "code",
   "execution_count": null,
   "metadata": {},
   "outputs": [],
   "source": [
    "import re\n",
    "\n",
    "def prepare_training_data(df):\n",
    "    \"\"\"\n",
    "    Prepares training data for spaCy NER from a DataFrame using exact substring matching,\n",
    "    with additional checks by removing and appending common suffixes.\n",
    "\n",
    "    :param df: A DataFrame containing headlines and ground truth ontvangers.\n",
    "    :return: A list of tuples (headline_and_descriptions, entities, original_parties).\n",
    "    \"\"\"\n",
    "    training_data = []\n",
    "\n",
    "    # Define suffix patterns and variants\n",
    "    suffix_variants = [\" B.V.\", \" BV\", \" B.V\", \" BV.\", \"\"]  # Common suffix variations\n",
    "    suffix_patterns = [r'\\sB\\.V\\.$', r'\\sBV$', r'\\sB\\.V$', r'\\sBV\\.$']  # Regex patterns to strip suffixes\n",
    "\n",
    "    for idx, row in df.iterrows():\n",
    "        headline = row['headline_and_description']\n",
    "        ontvangers = row['party_labeled']  # Ground truth ontvangers (as a list)\n",
    "\n",
    "        # Validate row data\n",
    "        if pd.notna(headline) and isinstance(ontvangers, list):\n",
    "            for ontvanger in ontvangers:\n",
    "                matched = False  # Track if a match was found\n",
    "\n",
    "                ## 1. Exact Match\n",
    "                start = headline.lower().find(ontvanger.lower())\n",
    "                if start != -1:\n",
    "                    end = start + len(ontvanger)\n",
    "                    training_data.append((headline, [(start, end, \"ORG\")], ontvanger))\n",
    "                    matched = True\n",
    "                    continue  # Move to the next entity if matched\n",
    "\n",
    "                ## 2. Match Without Suffix\n",
    "                ontvanger_no_suffix = ontvanger\n",
    "                for pattern in suffix_patterns:\n",
    "                    ontvanger_no_suffix = re.sub(pattern, '', ontvanger_no_suffix).strip()\n",
    "\n",
    "                if ontvanger_no_suffix and ontvanger_no_suffix != ontvanger:\n",
    "                    start = headline.lower().find(ontvanger_no_suffix.lower())\n",
    "                    if start != -1:\n",
    "                        end = start + len(ontvanger_no_suffix)\n",
    "                        training_data.append((headline, [(start, end, \"ORG\")], ontvanger))\n",
    "                        matched = True\n",
    "                        continue  # Move to the next entity if matched\n",
    "\n",
    "                ## 3. Match With Suffix Variants\n",
    "                for variant in suffix_variants:\n",
    "                    entity_to_match = ontvanger_no_suffix.strip() + variant\n",
    "                    start = headline.lower().find(entity_to_match.lower())\n",
    "\n",
    "                    if start != -1:\n",
    "                        end = start + len(entity_to_match)\n",
    "                        training_data.append((headline, [(start, end, \"ORG\")], ontvanger))\n",
    "                        matched = True\n",
    "                        break  # Stop checking other variants if a match is found\n",
    "\n",
    "                ## 4. Log Unmatched Entities\n",
    "                if not matched:\n",
    "                    print(f\"Warning: Ontvanger '{ontvanger}' not found in headline: {headline}\")\n",
    "\n",
    "    return training_data\n",
    "\n",
    "# Prepare the dataset with entities for training and testing\n",
    "NER_LABELS_SPACY_TRAIN = prepare_training_data(train_df)\n",
    "NER_LABELS_SPACY_TEST = prepare_training_data(test_df)\n"
   ]
  },
  {
   "cell_type": "code",
   "execution_count": null,
   "metadata": {},
   "outputs": [],
   "source": [
    "# visualize fuzzy matched training data\n",
    "from spacy import displacy\n",
    "import random\n",
    "from IPython.display import HTML\n",
    "\n",
    "def visualize_fuzzy_matched_training_data(training_data, num_examples=5, seed=42):\n",
    "    \"\"\"\n",
    "    Visualizes examples of fuzzy-matched training data using spaCy's displacy.\n",
    "\n",
    "    :param training_data: List of training examples in the format (headline_and_description, entities, original_party).\n",
    "    :param num_examples: Number of examples to visualize.\n",
    "    :param seed: Seed for random sampling (default: 42).\n",
    "    \"\"\"\n",
    "    # Set the random seed for reproducibility\n",
    "    random.seed(seed)\n",
    "    \n",
    "    # Randomly sample examples from the training data\n",
    "    sampled_data = random.sample(training_data, min(num_examples, len(training_data)))\n",
    "    \n",
    "    for headline_and_description, entities, original_party in sampled_data:\n",
    "        # Create visualization data\n",
    "        ents = [{\"start\": start, \"end\": end, \"label\": label} for start, end, label in entities]\n",
    "        visualization_data = {\"text\": headline_and_description, \"ents\": ents, \"title\": \"Training Data\"}\n",
    "        \n",
    "        # Render displacy visualization as HTML\n",
    "        displacy_html = displacy.render(visualization_data, style=\"ent\", manual=True, jupyter=False)\n",
    "        \n",
    "        # Combine textual details and visualization into a styled box\n",
    "        box_style = \"\"\"\n",
    "        <div style=\"\n",
    "            border: 1px solid #ddd;\n",
    "            border-radius: 8px;\n",
    "            padding: 15px;\n",
    "            margin: 10px 0;\n",
    "            background-color: #f9f9f9;\">\n",
    "        \"\"\"\n",
    "        \n",
    "        details = f\"\"\"\n",
    "        {box_style}\n",
    "        <strong>Headline & Description:</strong> {headline_and_description}<br>\n",
    "        <strong>Entity Extracted for NER Training:</strong> {', '.join([headline_and_description[start:end] for start, end, _ in entities])}<br>\n",
    "        <strong>Ground Truth:</strong> {original_party}<br><br>\n",
    "        {displacy_html}\n",
    "        </div>\n",
    "        \"\"\"\n",
    "        \n",
    "        # Display the styled box with content\n",
    "        display(HTML(details))\n",
    "\n",
    "# Visualize examples from NER_LABELS_SPACY\n",
    "visualize_fuzzy_matched_training_data(NER_LABELS_SPACY_TRAIN, num_examples=5, seed=42)"
   ]
  },
  {
   "cell_type": "code",
   "execution_count": null,
   "metadata": {},
   "outputs": [],
   "source": [
    "import spacy\n",
    "from spacy.training import Example\n",
    "import random\n",
    "import matplotlib.pyplot as plt\n",
    "\n",
    "def train_ner_model(train_data, base_model=\"nl_core_news_lg\", n_iter=50):\n",
    "    \"\"\"\n",
    "    Trains a custom NER model using spaCy and plots the training losses.\n",
    "\n",
    "    :param train_data: List of training examples in the format (headline, entities, original_party).\n",
    "    :param base_model: The base spaCy model to fine-tune.\n",
    "    :param n_iter: Number of training iterations.\n",
    "    :return: The trained spaCy model and a list of losses per epoch.\n",
    "    \"\"\"\n",
    "    # Load the base model\n",
    "    nlp = spacy.load(base_model)\n",
    "    ner = nlp.get_pipe(\"ner\")\n",
    "    ner.add_label(\"ORG\")\n",
    "\n",
    "    # Prepare training examples, excluding the original party\n",
    "    examples = [\n",
    "        Example.from_dict(nlp.make_doc(headline), {\"entities\": entities})\n",
    "        for headline, entities, _ in train_data  # Ignore the original party\n",
    "    ]\n",
    "\n",
    "    # Train the NER model and track losses\n",
    "    optimizer = nlp.initialize()\n",
    "    epoch_losses = []\n",
    "\n",
    "    for epoch in range(n_iter):\n",
    "        losses = {}\n",
    "        random.shuffle(examples)\n",
    "        nlp.update(examples, sgd=optimizer, losses=losses)\n",
    "        epoch_losses.append(losses[\"ner\"])\n",
    "        print(f\"Losses at iteration {epoch}: {losses}\")\n",
    "\n",
    "    # Plot the losses over epochs\n",
    "    plt.figure(figsize=(10, 6))\n",
    "    plt.plot(range(1, n_iter + 1), epoch_losses, marker='o', linestyle='-', color='b')\n",
    "    plt.title(\"NER Training Losses Over Epochs\")\n",
    "    plt.xlabel(\"Epoch\")\n",
    "    plt.ylabel(\"Loss\")\n",
    "    plt.grid()\n",
    "    plt.show()\n",
    "\n",
    "    return nlp, epoch_losses\n",
    "\n",
    "# Train the model and plot losses\n",
    "custom_ner, losses = train_ner_model(NER_LABELS_SPACY_TRAIN)\n"
   ]
  },
  {
   "cell_type": "code",
   "execution_count": null,
   "metadata": {},
   "outputs": [],
   "source": [
    "def evaluate_ner_model(nlp, test_data):\n",
    "    \"\"\"\n",
    "    Evaluates the custom NER model on a test dataset.\n",
    "\n",
    "    :param nlp: The trained spaCy model.\n",
    "    :param test_data: List of test examples in the format (headline, entities, original_party).\n",
    "    :return: Precision, recall, and F1-score.\n",
    "    \"\"\"\n",
    "    tp = 0  # True positives\n",
    "    fp = 0  # False positives\n",
    "    fn = 0  # False negatives\n",
    "\n",
    "    for headline, entities, _ in test_data:  # Unpack headline and entities, ignore original_party\n",
    "        doc = nlp(headline)\n",
    "        predicted_entities = [(ent.start_char, ent.end_char, ent.label_) for ent in doc.ents]\n",
    "        true_entities = entities\n",
    "\n",
    "        # Compare predicted and true entities\n",
    "        for pred in predicted_entities:\n",
    "            if pred in true_entities:\n",
    "                tp += 1\n",
    "            else:\n",
    "                fp += 1\n",
    "\n",
    "        for true_ent in true_entities:\n",
    "            if true_ent not in predicted_entities:\n",
    "                fn += 1\n",
    "\n",
    "    # Calculate precision, recall, and F1-score\n",
    "    precision = tp / (tp + fp) if (tp + fp) > 0 else 0\n",
    "    recall = tp / (tp + fn) if (tp + fn) > 0 else 0\n",
    "    f1 = 2 * (precision * recall) / (precision + recall) if (precision + recall) > 0 else 0\n",
    "\n",
    "    return precision, recall, f1\n",
    "\n",
    "# Evaluate the model\n",
    "precision, recall, f1 = evaluate_ner_model(custom_ner, NER_LABELS_SPACY_TEST)\n",
    "print(f\"Precision: {precision:.2f}, Recall: {recall:.2f}, F1-score: {f1:.2f}\")"
   ]
  },
  {
   "cell_type": "code",
   "execution_count": null,
   "metadata": {},
   "outputs": [],
   "source": [
    "from spacy import displacy\n",
    "\n",
    "def visualize_test_examples_with_displacy(nlp, test_data, num_examples=5):\n",
    "    \"\"\"\n",
    "    Visualizes true and predicted entities from the test set using spaCy's displacy.\n",
    "\n",
    "    :param nlp: The trained spaCy model.\n",
    "    :param test_data: List of test examples in the format (headline, entities, original_party).\n",
    "    :param num_examples: Number of examples to visualize.\n",
    "    \"\"\"\n",
    "    examples_shown = 0\n",
    "\n",
    "    # Define custom color options\n",
    "    ground_truth_colors = {\"ORG\": \"green\"}\n",
    "    predicted_colors = {\"ORG\": \"yellow\"}\n",
    "\n",
    "    for headline, entities, original_party in test_data:\n",
    "        # Stop if the desired number of examples is reached\n",
    "        if examples_shown >= num_examples:\n",
    "            break\n",
    "\n",
    "        # Print metadata\n",
    "        print(f\"Example {examples_shown + 1}\")\n",
    "        print(f\"Original Party (Ground Truth): {original_party}\")\n",
    "        print(f\"Headline: {headline}\")\n",
    "        \n",
    "        # True entities visualization\n",
    "        true_ents = [{\"start\": start, \"end\": end, \"label\": label} for start, end, label in entities]\n",
    "        true_render = {\"text\": headline, \"ents\": true_ents, \"title\": \"True Entities\"}\n",
    "        displacy.render(true_render, style=\"ent\", manual=True, jupyter=True, options={\"colors\": ground_truth_colors})\n",
    "\n",
    "        # Predicted entities visualization\n",
    "        doc = nlp(headline)\n",
    "        predicted_ents = [{\"start\": ent.start_char, \"end\": ent.end_char, \"label\": ent.label_} for ent in doc.ents]\n",
    "        predicted_render = {\"text\": headline, \"ents\": predicted_ents, \"title\": \"Predicted Entities\"}\n",
    "        displacy.render(predicted_render, style=\"ent\", manual=True, jupyter=True, options={\"colors\": predicted_colors})\n",
    "\n",
    "        print(\"-\" * 80)  # Separator between examples\n",
    "        examples_shown += 1\n",
    "\n",
    "# Visualize examples\n",
    "visualize_test_examples_with_displacy(custom_ner, NER_LABELS_SPACY_TEST, num_examples=20)"
   ]
  },
  {
   "cell_type": "markdown",
   "metadata": {},
   "source": [
    "### NER Fuzzy matches - FINAL"
   ]
  },
  {
   "cell_type": "code",
   "execution_count": 340,
   "metadata": {},
   "outputs": [],
   "source": [
    "import re\n",
    "\n",
    "def normalize_label_bv(label):\n",
    "    \"\"\"\n",
    "    If `label` ends with something like 'B.V.' (case-insensitive), remove it \n",
    "    and return the remainder as the 'base label'.\n",
    "    Otherwise, return the label itself (after trimming whitespace).\n",
    "    \"\"\"\n",
    "    label = label.strip()\n",
    "    # Regex to detect trailing B.V. (with optional punctuation/whitespace)\n",
    "    # e.g. \"B.V\", \"B. V.\", \"BV\", etc., ignoring case\n",
    "    bv_pattern = re.compile(r\"\\s+B\\.?\\s*V\\.?$\", re.IGNORECASE)\n",
    "\n",
    "    # Sub out the trailing B.V. if present\n",
    "    base_label = re.sub(bv_pattern, \"\", label)\n",
    "    return base_label.strip()\n",
    "\n",
    "def build_label_bv_pattern(base_label):\n",
    "    \"\"\"\n",
    "    Return a regex that matches either:\n",
    "      1) base_label alone\n",
    "      2) base_label + optional B.V. (with various punctuation/whitespace)\n",
    "    Case-insensitive, using word boundaries.\n",
    "    \"\"\"\n",
    "    escaped_label = re.escape(base_label)\n",
    "    # Group that can optionally match \" B.V.\" or \" BV\" or \" b.v.\" etc.\n",
    "    bv_suffix = r\"(?:\\s+B\\.?\\s*V\\.?)?\"\n",
    "    # Put it all together with word boundaries\n",
    "    pattern_str = rf\"\\b{escaped_label}{bv_suffix}\\b\"\n",
    "    return re.compile(pattern_str, flags=re.IGNORECASE)\n",
    "\n",
    "def find_bv_variants_in_text(text, label):\n",
    "    \"\"\"\n",
    "    Given the original label, build a pattern that can match either\n",
    "    the 'base label' or 'base label + B.V.'. Return all matches (start, end).\n",
    "    \"\"\"\n",
    "    # 1) Normalize label to remove 'B.V.' if present\n",
    "    base_label = normalize_label_bv(label)\n",
    "    \n",
    "    # 2) Build a pattern that matches:\n",
    "    #    a) base_label alone\n",
    "    #    b) base_label + optional \"B.V.\"\n",
    "    pattern = build_label_bv_pattern(base_label)\n",
    "\n",
    "    entities = []\n",
    "    for match in pattern.finditer(text):\n",
    "        start, end = match.start(), match.end()\n",
    "        # We'll call them all \"ORG\" for demonstration\n",
    "        entities.append((start, end, \"ORG\"))\n",
    "    \n",
    "    return entities\n",
    "\n",
    "def prepare_training_data(df):\n",
    "    \"\"\"\n",
    "    For each row in df:\n",
    "      - Get 'headline_and_description' and 'party_labeled'\n",
    "      - For each label in 'party_labeled', match either:\n",
    "          * label alone (if it didn't have B.V.)\n",
    "          * label minus B.V. + optional B.V.\n",
    "      - Return list of (text, entities, original_labels) for spaCy.\n",
    "    \"\"\"\n",
    "    training_data = []\n",
    "\n",
    "    for idx, row in df.iterrows():\n",
    "        headline = row.get(\"headline_and_description\", \"\")\n",
    "        ontvangers = row.get(\"party_labeled\", [])\n",
    "\n",
    "        # Ensure headline is not NaN and ontvangers is a list\n",
    "        if pd.notna(headline) and isinstance(ontvangers, list) and ontvangers:\n",
    "            entities = []\n",
    "            \n",
    "            for label in ontvangers:\n",
    "                matches = find_bv_variants_in_text(headline, label)\n",
    "                entities.extend(matches)\n",
    "\n",
    "            if entities:\n",
    "                training_data.append((headline, entities, ontvangers))\n",
    "    \n",
    "    return training_data\n",
    "\n",
    "NER_LABELS_SPACY_TRAIN = prepare_training_data(train_df)\n",
    "# NER_LABELS_SPACY_TEST  = prepare_training_data(test_df)"
   ]
  },
  {
   "cell_type": "markdown",
   "metadata": {},
   "source": [
    "Visualizing training entities"
   ]
  },
  {
   "cell_type": "code",
   "execution_count": 275,
   "metadata": {},
   "outputs": [
    {
     "data": {
      "text/html": [
       "\n",
       "        \n",
       "        <div style=\"\n",
       "            border: 1px solid #ddd;\n",
       "            border-radius: 8px;\n",
       "            padding: 15px;\n",
       "            margin: 10px 0;\n",
       "            background-color: #f9f9f9;\">\n",
       "        \n",
       "        <strong>Headline:</strong> Eteck Warmte Firecrest mag warmte leveren aan verbruikers. Eteck Warmte Firecrest B.V. mag warmte leveren aan verbruikers. De ACM heeft hiervoor op 3 oktober 2019 een vergunning verleend.<br>\n",
       "        <strong>Entity Extracted for NER Training:</strong> Eteck Warmte Firecrest, Eteck Warmte Firecrest B.V<br>\n",
       "        <strong>Original Party (Ground Truth):</strong> ['Eteck Warmte Firecrest B.V.']<br><br>\n",
       "        <h2 style=\"margin: 0\">Training Data</h2>\n",
       "\n",
       "<div class=\"entities\" style=\"line-height: 2.5; direction: ltr\">\n",
       "<mark class=\"entity\" style=\"background: #7aecec; padding: 0.45em 0.6em; margin: 0 0.25em; line-height: 1; border-radius: 0.35em;\">\n",
       "    Eteck Warmte Firecrest\n",
       "    <span style=\"font-size: 0.8em; font-weight: bold; line-height: 1; border-radius: 0.35em; vertical-align: middle; margin-left: 0.5rem\">ORG</span>\n",
       "</mark>\n",
       " mag warmte leveren aan verbruikers. \n",
       "<mark class=\"entity\" style=\"background: #7aecec; padding: 0.45em 0.6em; margin: 0 0.25em; line-height: 1; border-radius: 0.35em;\">\n",
       "    Eteck Warmte Firecrest B.V\n",
       "    <span style=\"font-size: 0.8em; font-weight: bold; line-height: 1; border-radius: 0.35em; vertical-align: middle; margin-left: 0.5rem\">ORG</span>\n",
       "</mark>\n",
       ". mag warmte leveren aan verbruikers. De ACM heeft hiervoor op 3 oktober 2019 een vergunning verleend.</div>\n",
       "        </div>\n",
       "        "
      ],
      "text/plain": [
       "<IPython.core.display.HTML object>"
      ]
     },
     "metadata": {},
     "output_type": "display_data"
    },
    {
     "data": {
      "text/html": [
       "\n",
       "        \n",
       "        <div style=\"\n",
       "            border: 1px solid #ddd;\n",
       "            border-radius: 8px;\n",
       "            padding: 15px;\n",
       "            margin: 10px 0;\n",
       "            background-color: #f9f9f9;\">\n",
       "        \n",
       "        <strong>Headline:</strong> Breecamp Energie B.V. mag warmte leveren aan verbruikers. Breecamp Energie B.V. mag warmte leveren aan verbruikers. ACM heeft hiervoor op 7 april 2016 een vergunning verleend.<br>\n",
       "        <strong>Entity Extracted for NER Training:</strong> Breecamp Energie B.V, Breecamp Energie B.V<br>\n",
       "        <strong>Original Party (Ground Truth):</strong> ['Breecamp Energie B.V.']<br><br>\n",
       "        <h2 style=\"margin: 0\">Training Data</h2>\n",
       "\n",
       "<div class=\"entities\" style=\"line-height: 2.5; direction: ltr\">\n",
       "<mark class=\"entity\" style=\"background: #7aecec; padding: 0.45em 0.6em; margin: 0 0.25em; line-height: 1; border-radius: 0.35em;\">\n",
       "    Breecamp Energie B.V\n",
       "    <span style=\"font-size: 0.8em; font-weight: bold; line-height: 1; border-radius: 0.35em; vertical-align: middle; margin-left: 0.5rem\">ORG</span>\n",
       "</mark>\n",
       ". mag warmte leveren aan verbruikers. \n",
       "<mark class=\"entity\" style=\"background: #7aecec; padding: 0.45em 0.6em; margin: 0 0.25em; line-height: 1; border-radius: 0.35em;\">\n",
       "    Breecamp Energie B.V\n",
       "    <span style=\"font-size: 0.8em; font-weight: bold; line-height: 1; border-radius: 0.35em; vertical-align: middle; margin-left: 0.5rem\">ORG</span>\n",
       "</mark>\n",
       ". mag warmte leveren aan verbruikers. ACM heeft hiervoor op 7 april 2016 een vergunning verleend.</div>\n",
       "        </div>\n",
       "        "
      ],
      "text/plain": [
       "<IPython.core.display.HTML object>"
      ]
     },
     "metadata": {},
     "output_type": "display_data"
    },
    {
     "data": {
      "text/html": [
       "\n",
       "        \n",
       "        <div style=\"\n",
       "            border: 1px solid #ddd;\n",
       "            border-radius: 8px;\n",
       "            padding: 15px;\n",
       "            margin: 10px 0;\n",
       "            background-color: #f9f9f9;\">\n",
       "        \n",
       "        <strong>Headline:</strong> Ontheffing beheren eigen elektriciteitsnet Christelijk Ziekenhuis Refaja naar Treant Ziekenhuiszorg. De ACM wijzigt op verzoek de naam van de ontheffinghouder<br>\n",
       "        <strong>Entity Extracted for NER Training:</strong> Christelijk Ziekenhuis Refaja, Treant Ziekenhuiszorg<br>\n",
       "        <strong>Original Party (Ground Truth):</strong> ['Christelijk Ziekenhuis Refaja', ' Treant Ziekenhuiszorg']<br><br>\n",
       "        <h2 style=\"margin: 0\">Training Data</h2>\n",
       "\n",
       "<div class=\"entities\" style=\"line-height: 2.5; direction: ltr\">Ontheffing beheren eigen elektriciteitsnet \n",
       "<mark class=\"entity\" style=\"background: #7aecec; padding: 0.45em 0.6em; margin: 0 0.25em; line-height: 1; border-radius: 0.35em;\">\n",
       "    Christelijk Ziekenhuis Refaja\n",
       "    <span style=\"font-size: 0.8em; font-weight: bold; line-height: 1; border-radius: 0.35em; vertical-align: middle; margin-left: 0.5rem\">ORG</span>\n",
       "</mark>\n",
       " naar \n",
       "<mark class=\"entity\" style=\"background: #7aecec; padding: 0.45em 0.6em; margin: 0 0.25em; line-height: 1; border-radius: 0.35em;\">\n",
       "    Treant Ziekenhuiszorg\n",
       "    <span style=\"font-size: 0.8em; font-weight: bold; line-height: 1; border-radius: 0.35em; vertical-align: middle; margin-left: 0.5rem\">ORG</span>\n",
       "</mark>\n",
       ". De ACM wijzigt op verzoek de naam van de ontheffinghouder</div>\n",
       "        </div>\n",
       "        "
      ],
      "text/plain": [
       "<IPython.core.display.HTML object>"
      ]
     },
     "metadata": {},
     "output_type": "display_data"
    },
    {
     "data": {
      "text/html": [
       "\n",
       "        \n",
       "        <div style=\"\n",
       "            border: 1px solid #ddd;\n",
       "            border-radius: 8px;\n",
       "            padding: 15px;\n",
       "            margin: 10px 0;\n",
       "            background-color: #f9f9f9;\">\n",
       "        \n",
       "        <strong>Headline:</strong> Intrekking leveringsvergunning Bergop Beheer voor gas. Bergop Beheer B.V.  heeft op 12 september 2018 aan de ACM verzocht om de leveringsvergunning voor gas aan kleinverbruikers in te trekken.<br>\n",
       "        <strong>Entity Extracted for NER Training:</strong> Bergop Beheer, Bergop Beheer B.V<br>\n",
       "        <strong>Original Party (Ground Truth):</strong> ['Bergop Beheer B.V.']<br><br>\n",
       "        <h2 style=\"margin: 0\">Training Data</h2>\n",
       "\n",
       "<div class=\"entities\" style=\"line-height: 2.5; direction: ltr\">Intrekking leveringsvergunning \n",
       "<mark class=\"entity\" style=\"background: #7aecec; padding: 0.45em 0.6em; margin: 0 0.25em; line-height: 1; border-radius: 0.35em;\">\n",
       "    Bergop Beheer\n",
       "    <span style=\"font-size: 0.8em; font-weight: bold; line-height: 1; border-radius: 0.35em; vertical-align: middle; margin-left: 0.5rem\">ORG</span>\n",
       "</mark>\n",
       " voor gas. \n",
       "<mark class=\"entity\" style=\"background: #7aecec; padding: 0.45em 0.6em; margin: 0 0.25em; line-height: 1; border-radius: 0.35em;\">\n",
       "    Bergop Beheer B.V\n",
       "    <span style=\"font-size: 0.8em; font-weight: bold; line-height: 1; border-radius: 0.35em; vertical-align: middle; margin-left: 0.5rem\">ORG</span>\n",
       "</mark>\n",
       ".  heeft op 12 september 2018 aan de ACM verzocht om de leveringsvergunning voor gas aan kleinverbruikers in te trekken.</div>\n",
       "        </div>\n",
       "        "
      ],
      "text/plain": [
       "<IPython.core.display.HTML object>"
      ]
     },
     "metadata": {},
     "output_type": "display_data"
    },
    {
     "data": {
      "text/html": [
       "\n",
       "        \n",
       "        <div style=\"\n",
       "            border: 1px solid #ddd;\n",
       "            border-radius: 8px;\n",
       "            padding: 15px;\n",
       "            margin: 10px 0;\n",
       "            background-color: #f9f9f9;\">\n",
       "        \n",
       "        <strong>Headline:</strong> Intrekking leveringsvergunningen DVEP op eigen verzoek. De ACM heeft de leveringsvergunningen van De Vrije Energie Producent B.V. voor het leveren van elektriciteit en gas aan kleinverbruikers op haar verzoek ingetrokken<br>\n",
       "        <strong>Entity Extracted for NER Training:</strong> De Vrije Energie Producent B.V<br>\n",
       "        <strong>Original Party (Ground Truth):</strong> ['De Vrije Energie Producent B.V.']<br><br>\n",
       "        <h2 style=\"margin: 0\">Training Data</h2>\n",
       "\n",
       "<div class=\"entities\" style=\"line-height: 2.5; direction: ltr\">Intrekking leveringsvergunningen DVEP op eigen verzoek. De ACM heeft de leveringsvergunningen van \n",
       "<mark class=\"entity\" style=\"background: #7aecec; padding: 0.45em 0.6em; margin: 0 0.25em; line-height: 1; border-radius: 0.35em;\">\n",
       "    De Vrije Energie Producent B.V\n",
       "    <span style=\"font-size: 0.8em; font-weight: bold; line-height: 1; border-radius: 0.35em; vertical-align: middle; margin-left: 0.5rem\">ORG</span>\n",
       "</mark>\n",
       ". voor het leveren van elektriciteit en gas aan kleinverbruikers op haar verzoek ingetrokken</div>\n",
       "        </div>\n",
       "        "
      ],
      "text/plain": [
       "<IPython.core.display.HTML object>"
      ]
     },
     "metadata": {},
     "output_type": "display_data"
    },
    {
     "data": {
      "text/html": [
       "\n",
       "        \n",
       "        <div style=\"\n",
       "            border: 1px solid #ddd;\n",
       "            border-radius: 8px;\n",
       "            padding: 15px;\n",
       "            margin: 10px 0;\n",
       "            background-color: #f9f9f9;\">\n",
       "        \n",
       "        <strong>Headline:</strong> Intrekking leveringsvergunning gas aan kleingebruikers door Youfone Energie. De ACM heeft op 29 september 2023 namens de Minister van Economische Zaken en Klimaat de leveringsvergunning van Youfone Energie B.V. voor het leveren van gas aan kleinverbruikers ingetrokken.<br>\n",
       "        <strong>Entity Extracted for NER Training:</strong> Youfone Energie, Youfone Energie B.V<br>\n",
       "        <strong>Original Party (Ground Truth):</strong> ['Youfone Energie B.V.']<br><br>\n",
       "        <h2 style=\"margin: 0\">Training Data</h2>\n",
       "\n",
       "<div class=\"entities\" style=\"line-height: 2.5; direction: ltr\">Intrekking leveringsvergunning gas aan kleingebruikers door \n",
       "<mark class=\"entity\" style=\"background: #7aecec; padding: 0.45em 0.6em; margin: 0 0.25em; line-height: 1; border-radius: 0.35em;\">\n",
       "    Youfone Energie\n",
       "    <span style=\"font-size: 0.8em; font-weight: bold; line-height: 1; border-radius: 0.35em; vertical-align: middle; margin-left: 0.5rem\">ORG</span>\n",
       "</mark>\n",
       ". De ACM heeft op 29 september 2023 namens de Minister van Economische Zaken en Klimaat de leveringsvergunning van \n",
       "<mark class=\"entity\" style=\"background: #7aecec; padding: 0.45em 0.6em; margin: 0 0.25em; line-height: 1; border-radius: 0.35em;\">\n",
       "    Youfone Energie B.V\n",
       "    <span style=\"font-size: 0.8em; font-weight: bold; line-height: 1; border-radius: 0.35em; vertical-align: middle; margin-left: 0.5rem\">ORG</span>\n",
       "</mark>\n",
       ". voor het leveren van gas aan kleinverbruikers ingetrokken.</div>\n",
       "        </div>\n",
       "        "
      ],
      "text/plain": [
       "<IPython.core.display.HTML object>"
      ]
     },
     "metadata": {},
     "output_type": "display_data"
    },
    {
     "data": {
      "text/html": [
       "\n",
       "        \n",
       "        <div style=\"\n",
       "            border: 1px solid #ddd;\n",
       "            border-radius: 8px;\n",
       "            padding: 15px;\n",
       "            margin: 10px 0;\n",
       "            background-color: #f9f9f9;\">\n",
       "        \n",
       "        <strong>Headline:</strong> GP Groot energie mag elektriciteit leveren aan kleinverbruikers. GP Groot energie B.V. mag gas en elektriciteit leveren aan kleinverbruikers. ACM heeft op  27 januari 2015 hiervoor een vergunning verleend.<br>\n",
       "        <strong>Entity Extracted for NER Training:</strong> GP Groot energie, GP Groot energie B.V<br>\n",
       "        <strong>Original Party (Ground Truth):</strong> ['GP Groot energie B.V.']<br><br>\n",
       "        <h2 style=\"margin: 0\">Training Data</h2>\n",
       "\n",
       "<div class=\"entities\" style=\"line-height: 2.5; direction: ltr\">\n",
       "<mark class=\"entity\" style=\"background: #7aecec; padding: 0.45em 0.6em; margin: 0 0.25em; line-height: 1; border-radius: 0.35em;\">\n",
       "    GP Groot energie\n",
       "    <span style=\"font-size: 0.8em; font-weight: bold; line-height: 1; border-radius: 0.35em; vertical-align: middle; margin-left: 0.5rem\">ORG</span>\n",
       "</mark>\n",
       " mag elektriciteit leveren aan kleinverbruikers. \n",
       "<mark class=\"entity\" style=\"background: #7aecec; padding: 0.45em 0.6em; margin: 0 0.25em; line-height: 1; border-radius: 0.35em;\">\n",
       "    GP Groot energie B.V\n",
       "    <span style=\"font-size: 0.8em; font-weight: bold; line-height: 1; border-radius: 0.35em; vertical-align: middle; margin-left: 0.5rem\">ORG</span>\n",
       "</mark>\n",
       ". mag gas en elektriciteit leveren aan kleinverbruikers. ACM heeft op  27 januari 2015 hiervoor een vergunning verleend.</div>\n",
       "        </div>\n",
       "        "
      ],
      "text/plain": [
       "<IPython.core.display.HTML object>"
      ]
     },
     "metadata": {},
     "output_type": "display_data"
    },
    {
     "data": {
      "text/html": [
       "\n",
       "        \n",
       "        <div style=\"\n",
       "            border: 1px solid #ddd;\n",
       "            border-radius: 8px;\n",
       "            padding: 15px;\n",
       "            margin: 10px 0;\n",
       "            background-color: #f9f9f9;\">\n",
       "        \n",
       "        <strong>Headline:</strong> Vaanster VII mag warmte leveren aan verbruikers. Vaanster VII B.V. mag warmte leveren aan verbruikers. ACM heeft hiervoor op 8 maart 2016 een vergunning verleend.<br>\n",
       "        <strong>Entity Extracted for NER Training:</strong> Vaanster VII, Vaanster VII B.V<br>\n",
       "        <strong>Original Party (Ground Truth):</strong> ['Vaanster VII B.V.']<br><br>\n",
       "        <h2 style=\"margin: 0\">Training Data</h2>\n",
       "\n",
       "<div class=\"entities\" style=\"line-height: 2.5; direction: ltr\">\n",
       "<mark class=\"entity\" style=\"background: #7aecec; padding: 0.45em 0.6em; margin: 0 0.25em; line-height: 1; border-radius: 0.35em;\">\n",
       "    Vaanster VII\n",
       "    <span style=\"font-size: 0.8em; font-weight: bold; line-height: 1; border-radius: 0.35em; vertical-align: middle; margin-left: 0.5rem\">ORG</span>\n",
       "</mark>\n",
       " mag warmte leveren aan verbruikers. \n",
       "<mark class=\"entity\" style=\"background: #7aecec; padding: 0.45em 0.6em; margin: 0 0.25em; line-height: 1; border-radius: 0.35em;\">\n",
       "    Vaanster VII B.V\n",
       "    <span style=\"font-size: 0.8em; font-weight: bold; line-height: 1; border-radius: 0.35em; vertical-align: middle; margin-left: 0.5rem\">ORG</span>\n",
       "</mark>\n",
       ". mag warmte leveren aan verbruikers. ACM heeft hiervoor op 8 maart 2016 een vergunning verleend.</div>\n",
       "        </div>\n",
       "        "
      ],
      "text/plain": [
       "<IPython.core.display.HTML object>"
      ]
     },
     "metadata": {},
     "output_type": "display_data"
    },
    {
     "data": {
      "text/html": [
       "\n",
       "        \n",
       "        <div style=\"\n",
       "            border: 1px solid #ddd;\n",
       "            border-radius: 8px;\n",
       "            padding: 15px;\n",
       "            margin: 10px 0;\n",
       "            background-color: #f9f9f9;\">\n",
       "        \n",
       "        <strong>Headline:</strong> Intrekking leveringsvergunning Bergop Beheer voor elektriciteit. Bergop Beheer B.V.  heeft op 12 september 2018 aan de ACM verzocht om de leveringsvergunning voor elektriciteit aan kleinverbruikers in te trekken.<br>\n",
       "        <strong>Entity Extracted for NER Training:</strong> Bergop Beheer, Bergop Beheer B.V<br>\n",
       "        <strong>Original Party (Ground Truth):</strong> ['Bergop Beheer B.V.']<br><br>\n",
       "        <h2 style=\"margin: 0\">Training Data</h2>\n",
       "\n",
       "<div class=\"entities\" style=\"line-height: 2.5; direction: ltr\">Intrekking leveringsvergunning \n",
       "<mark class=\"entity\" style=\"background: #7aecec; padding: 0.45em 0.6em; margin: 0 0.25em; line-height: 1; border-radius: 0.35em;\">\n",
       "    Bergop Beheer\n",
       "    <span style=\"font-size: 0.8em; font-weight: bold; line-height: 1; border-radius: 0.35em; vertical-align: middle; margin-left: 0.5rem\">ORG</span>\n",
       "</mark>\n",
       " voor elektriciteit. \n",
       "<mark class=\"entity\" style=\"background: #7aecec; padding: 0.45em 0.6em; margin: 0 0.25em; line-height: 1; border-radius: 0.35em;\">\n",
       "    Bergop Beheer B.V\n",
       "    <span style=\"font-size: 0.8em; font-weight: bold; line-height: 1; border-radius: 0.35em; vertical-align: middle; margin-left: 0.5rem\">ORG</span>\n",
       "</mark>\n",
       ".  heeft op 12 september 2018 aan de ACM verzocht om de leveringsvergunning voor elektriciteit aan kleinverbruikers in te trekken.</div>\n",
       "        </div>\n",
       "        "
      ],
      "text/plain": [
       "<IPython.core.display.HTML object>"
      ]
     },
     "metadata": {},
     "output_type": "display_data"
    },
    {
     "data": {
      "text/html": [
       "\n",
       "        \n",
       "        <div style=\"\n",
       "            border: 1px solid #ddd;\n",
       "            border-radius: 8px;\n",
       "            padding: 15px;\n",
       "            margin: 10px 0;\n",
       "            background-color: #f9f9f9;\">\n",
       "        \n",
       "        <strong>Headline:</strong> Intrekking leveringsvergunning Twence van elektriciteit aan kleinverbruikers. ACM heeft de leveringsvergunning van Twence voor elektriciteit aan kleinverbruikers op  1 juni 2016 ingetrokken.<br>\n",
       "        <strong>Entity Extracted for NER Training:</strong> Twence, Twence<br>\n",
       "        <strong>Original Party (Ground Truth):</strong> ['Twence B.V.']<br><br>\n",
       "        <h2 style=\"margin: 0\">Training Data</h2>\n",
       "\n",
       "<div class=\"entities\" style=\"line-height: 2.5; direction: ltr\">Intrekking leveringsvergunning \n",
       "<mark class=\"entity\" style=\"background: #7aecec; padding: 0.45em 0.6em; margin: 0 0.25em; line-height: 1; border-radius: 0.35em;\">\n",
       "    Twence\n",
       "    <span style=\"font-size: 0.8em; font-weight: bold; line-height: 1; border-radius: 0.35em; vertical-align: middle; margin-left: 0.5rem\">ORG</span>\n",
       "</mark>\n",
       " van elektriciteit aan kleinverbruikers. ACM heeft de leveringsvergunning van \n",
       "<mark class=\"entity\" style=\"background: #7aecec; padding: 0.45em 0.6em; margin: 0 0.25em; line-height: 1; border-radius: 0.35em;\">\n",
       "    Twence\n",
       "    <span style=\"font-size: 0.8em; font-weight: bold; line-height: 1; border-radius: 0.35em; vertical-align: middle; margin-left: 0.5rem\">ORG</span>\n",
       "</mark>\n",
       " voor elektriciteit aan kleinverbruikers op  1 juni 2016 ingetrokken.</div>\n",
       "        </div>\n",
       "        "
      ],
      "text/plain": [
       "<IPython.core.display.HTML object>"
      ]
     },
     "metadata": {},
     "output_type": "display_data"
    }
   ],
   "source": [
    "from spacy import displacy\n",
    "\n",
    "def visualize_training_data(training_data, num_examples=5, seed=42):\n",
    "    \"\"\"\n",
    "    Visualizes examples of fuzzy-matched training data using spaCy's displacy.\n",
    "\n",
    "    :param training_data: List of training examples in the format (headline, entities, original_party).\n",
    "    :param num_examples: Number of examples to visualize.\n",
    "    :param seed: Seed for random sampling (default: 42).\n",
    "    \"\"\"\n",
    "    # Set the random seed for reproducibility\n",
    "    random.seed(seed)\n",
    "    \n",
    "    # Randomly sample examples from the training data\n",
    "    sampled_data = random.sample(training_data, min(num_examples, len(training_data)))\n",
    "    \n",
    "    for headline, entities, original_party in sampled_data:\n",
    "        # Create visualization data\n",
    "        ents = [{\"start\": start, \"end\": end, \"label\": label} for start, end, label in entities]\n",
    "        visualization_data = {\"text\": headline, \"ents\": ents, \"title\": \"Training Data\"}\n",
    "        \n",
    "        # Render displacy visualization as HTML\n",
    "        displacy_html = displacy.render(visualization_data, style=\"ent\", manual=True, jupyter=False)\n",
    "        \n",
    "        # Combine textual details and visualization into a styled box\n",
    "        box_style = \"\"\"\n",
    "        <div style=\"\n",
    "            border: 1px solid #ddd;\n",
    "            border-radius: 8px;\n",
    "            padding: 15px;\n",
    "            margin: 10px 0;\n",
    "            background-color: #f9f9f9;\">\n",
    "        \"\"\"\n",
    "        \n",
    "        details = f\"\"\"\n",
    "        {box_style}\n",
    "        <strong>Headline:</strong> {headline}<br>\n",
    "        <strong>Entity Extracted for NER Training:</strong> {', '.join([headline[start:end] for start, end, _ in entities])}<br>\n",
    "        <strong>Original Party (Ground Truth):</strong> {original_party}<br><br>\n",
    "        {displacy_html}\n",
    "        </div>\n",
    "        \"\"\"\n",
    "        \n",
    "        # Display the styled box with content\n",
    "        display(HTML(details))\n",
    "\n",
    "# Visualize examples from NER_LABELS_SPACY_TRAIN\n",
    "visualize_training_data(NER_LABELS_SPACY_TRAIN, num_examples=10, seed=42)\n"
   ]
  },
  {
   "cell_type": "markdown",
   "metadata": {},
   "source": [
    "training 1"
   ]
  },
  {
   "cell_type": "code",
   "execution_count": null,
   "metadata": {},
   "outputs": [
    {
     "name": "stdout",
     "output_type": "stream",
     "text": [
      "Overlapping entity ignored: (220, 225, ORG)\n",
      "Overlapping entity ignored: (25, 37, ORG)\n",
      "Overlapping entity ignored: (55, 67, ORG)\n",
      "Overlapping entity ignored: (87, 104, ORG)\n",
      "Overlapping entity ignored: (178, 195, ORG)\n",
      "Epoch 1/30, Loss: 537.6740\n",
      "Epoch 2/30, Loss: 204.0992\n",
      "Epoch 3/30, Loss: 182.0275\n",
      "Epoch 4/30, Loss: 112.3885\n",
      "Epoch 5/30, Loss: 122.5945\n",
      "Epoch 6/30, Loss: 105.9491\n",
      "Epoch 7/30, Loss: 99.3598\n",
      "Epoch 8/30, Loss: 95.1619\n",
      "Epoch 9/30, Loss: 90.2659\n",
      "Epoch 10/30, Loss: 94.0796\n",
      "Epoch 11/30, Loss: 80.8150\n",
      "Epoch 12/30, Loss: 78.4236\n",
      "Epoch 13/30, Loss: 67.3875\n",
      "Epoch 14/30, Loss: 68.9089\n",
      "Epoch 15/30, Loss: 85.3025\n",
      "Epoch 16/30, Loss: 66.4804\n",
      "Epoch 17/30, Loss: 73.0445\n",
      "Epoch 18/30, Loss: 58.3962\n",
      "Epoch 19/30, Loss: 64.3932\n",
      "Epoch 20/30, Loss: 77.2144\n",
      "Epoch 21/30, Loss: 62.1276\n",
      "Epoch 22/30, Loss: 56.3193\n",
      "Epoch 23/30, Loss: 59.1997\n",
      "Epoch 24/30, Loss: 56.4381\n",
      "Epoch 25/30, Loss: 67.8602\n",
      "Epoch 26/30, Loss: 62.6757\n",
      "Epoch 27/30, Loss: 68.3684\n",
      "Epoch 28/30, Loss: 58.0147\n",
      "Epoch 29/30, Loss: 53.3182\n",
      "Epoch 30/30, Loss: 50.0430\n"
     ]
    },
    {
     "data": {
      "image/png": "[encoded data removed]",
      "text/plain": [
       "<Figure size 1200x600 with 1 Axes>"
      ]
     },
     "metadata": {},
     "output_type": "display_data"
    }
   ],
   "source": [
    "import spacy\n",
    "from spacy.training import Example\n",
    "import random\n",
    "import matplotlib.pyplot as plt\n",
    "\n",
    "def align_entities(nlp, text, entities):\n",
    "    \"\"\"\n",
    "    Align entities with token boundaries using SpaCy's tokenizer.\n",
    "    \"\"\"\n",
    "    doc = nlp.make_doc(text)\n",
    "    aligned_entities = []\n",
    "    \n",
    "    for start, end, label in entities:\n",
    "        token_start = None\n",
    "        token_end = None\n",
    "        \n",
    "        # Find token boundaries\n",
    "        for token in doc:\n",
    "            if token.idx <= start < token.idx + len(token.text):\n",
    "                token_start = token.idx\n",
    "            if token.idx < end <= token.idx + len(token.text):\n",
    "                token_end = token.idx + len(token.text)\n",
    "        \n",
    "        if token_start is not None and token_end is not None:\n",
    "            aligned_entities.append((token_start, token_end, label))\n",
    "        else:\n",
    "            print(f\"Could not align entity: {(start, end, label)}\")\n",
    "    \n",
    "    return aligned_entities\n",
    "\n",
    "\n",
    "def prepare_aligned_training_data(train_data, nlp):\n",
    "    \"\"\"\n",
    "    Ensure all entity offsets align with spaCy tokens and remove overlaps.\n",
    "    \"\"\"\n",
    "    aligned_data = []\n",
    "    for text, entities, _ in train_data:\n",
    "        aligned_entities = align_entities(nlp, text, entities)\n",
    "        non_overlapping_entities = remove_overlapping_entities(aligned_entities)\n",
    "        aligned_data.append((text, non_overlapping_entities))\n",
    "    return aligned_data\n",
    "\n",
    "\n",
    "def remove_overlapping_entities(entities):\n",
    "    \"\"\"\n",
    "    Remove overlapping entities from a list of entities.\n",
    "    Keeps the longest entity in each overlapping pair.\n",
    "\n",
    "    :param entities: List of tuples (start, end, label)\n",
    "    :return: Filtered list of non-overlapping entities\n",
    "    \"\"\"\n",
    "    if not entities:\n",
    "        return []\n",
    "\n",
    "    # Sort entities by start offset, and if equal, by descending length\n",
    "    entities = sorted(entities, key=lambda x: (x[0], -(x[1] - x[0])))\n",
    "\n",
    "    non_overlapping = []\n",
    "    last_end = -1\n",
    "\n",
    "    for start, end, label in entities:\n",
    "        if start >= last_end:  # No overlap with the previous entity\n",
    "            non_overlapping.append((start, end, label))\n",
    "            last_end = end  # Update the end pointer\n",
    "        else:\n",
    "            print(f\"Overlapping entity ignored: ({start}, {end}, {label})\")\n",
    "\n",
    "    return non_overlapping\n",
    "\n",
    "\n",
    "import spacy\n",
    "from spacy.training import Example\n",
    "import random\n",
    "import matplotlib.pyplot as plt\n",
    "\n",
    "\n",
    "def train_ner_model(train_data, base_model=\"nl_core_news_lg\", n_iter=50):\n",
    "    \"\"\"\n",
    "    Trains a custom NER model using spaCy with aligned, non-overlapping entity data.\n",
    "    \"\"\"\n",
    "    nlp = spacy.load(base_model)\n",
    "    if \"ner\" not in nlp.pipe_names:\n",
    "        ner = nlp.add_pipe(\"ner\")\n",
    "    else:\n",
    "        ner = nlp.get_pipe(\"ner\")\n",
    "    \n",
    "    ner.add_label(\"ORG\")\n",
    "    \n",
    "    # Align and remove overlaps from training data\n",
    "    aligned_train_data = prepare_aligned_training_data(train_data, nlp)\n",
    "    \n",
    "    examples = [\n",
    "        Example.from_dict(nlp.make_doc(text), {\"entities\": entities})\n",
    "        for text, entities in aligned_train_data\n",
    "    ]\n",
    "    \n",
    "    optimizer = nlp.resume_training()\n",
    "    losses_history = []\n",
    "\n",
    "    with nlp.disable_pipes(*[pipe for pipe in nlp.pipe_names if pipe != \"ner\"]):\n",
    "        for epoch in range(n_iter):\n",
    "            random.shuffle(examples)\n",
    "            losses = {}\n",
    "            for example in examples:\n",
    "                nlp.update([example], sgd=optimizer, losses=losses, drop=0.2)\n",
    "            losses_history.append(losses[\"ner\"])\n",
    "            print(f\"Epoch {epoch + 1}/{n_iter}, Loss: {losses['ner']:.4f}\")\n",
    "    \n",
    "    \n",
    "    return nlp, losses_history\n",
    "\n",
    "\n",
    "# Example Usage:\n",
    "# Ensure your training data is aligned and cleaned\n",
    "custom_ner, losses = train_ner_model(NER_LABELS_SPACY_TRAIN, n_iter=30)\n",
    "\n",
    "# Save the model\n",
    "#custom_ner.to_disk(\"custom_ner_model\")"
   ]
  },
  {
   "cell_type": "code",
   "execution_count": 419,
   "metadata": {},
   "outputs": [
    {
     "data": {
      "image/png": "[encoded data removed]",
      "text/plain": [
       "<Figure size 1200x600 with 1 Axes>"
      ]
     },
     "metadata": {},
     "output_type": "display_data"
    }
   ],
   "source": [
    "import matplotlib.pyplot as plt\n",
    "\n",
    "# Plot Losses\n",
    "plt.figure(figsize=(12, 6))\n",
    "plt.plot(range(1, 30 + 1), losses, marker='o', linestyle='-', linewidth=2)\n",
    "plt.title(\"NER Training Losses Over Epochs\", fontsize=18)\n",
    "plt.xlabel(\"Epoch\", fontsize=16)\n",
    "plt.ylabel(\"Loss\", fontsize=16)\n",
    "plt.xticks(fontsize=12)\n",
    "plt.grid(True)\n",
    "plt.yticks(fontsize=12)\n",
    "plt.tight_layout()\n",
    "plt.savefig(\"/Users/giacomograzia/Downloads/ner_training_losses.png\", dpi=300)\n",
    "plt.show()\n"
   ]
  },
  {
   "cell_type": "code",
   "execution_count": 463,
   "metadata": {},
   "outputs": [
    {
     "name": "stdout",
     "output_type": "stream",
     "text": [
      "Duplicate removed:  MAIN Energie B.V.\n"
     ]
    },
    {
     "name": "stderr",
     "output_type": "stream",
     "text": [
      "/var/folders/6r/fy40h3sj5sz87ctgpzyw1lgm0000gn/T/ipykernel_78871/251670350.py:32: SettingWithCopyWarning: \n",
      "A value is trying to be set on a copy of a slice from a DataFrame.\n",
      "Try using .loc[row_indexer,col_indexer] = value instead\n",
      "\n",
      "See the caveats in the documentation: https://pandas.pydata.org/pandas-docs/stable/user_guide/indexing.html#returning-a-view-versus-a-copy\n",
      "  df['predicted_org_indices'] = predicted_org_indices\n",
      "/var/folders/6r/fy40h3sj5sz87ctgpzyw1lgm0000gn/T/ipykernel_78871/251670350.py:33: SettingWithCopyWarning: \n",
      "A value is trying to be set on a copy of a slice from a DataFrame.\n",
      "Try using .loc[row_indexer,col_indexer] = value instead\n",
      "\n",
      "See the caveats in the documentation: https://pandas.pydata.org/pandas-docs/stable/user_guide/indexing.html#returning-a-view-versus-a-copy\n",
      "  df['predicted_org_strings'] = predicted_org_strings\n",
      "/var/folders/6r/fy40h3sj5sz87ctgpzyw1lgm0000gn/T/ipykernel_78871/251670350.py:64: SettingWithCopyWarning: \n",
      "A value is trying to be set on a copy of a slice from a DataFrame.\n",
      "Try using .loc[row_indexer,col_indexer] = value instead\n",
      "\n",
      "See the caveats in the documentation: https://pandas.pydata.org/pandas-docs/stable/user_guide/indexing.html#returning-a-view-versus-a-copy\n",
      "  test_df['party_labeled'] = test_df['party_labeled'].apply(deduplicate_ground_truth)\n"
     ]
    }
   ],
   "source": [
    "def add_predicted_org_entities_to_df(nlp, df, text_column):\n",
    "    \"\"\"\n",
    "    Predict ORG entities for each text entry in a DataFrame and add them as indices and strings.\n",
    "    \n",
    "    :param nlp: Trained SpaCy NER model.\n",
    "    :param df: pandas DataFrame containing text data.\n",
    "    :param text_column: Column name containing the text data.\n",
    "    :return: Updated DataFrame with two new columns:\n",
    "             - 'predicted_org_indices': List of (start, end) tuples for ORG entities.\n",
    "             - 'predicted_org_strings': List of ORG entity strings.\n",
    "    \"\"\"\n",
    "    predicted_org_indices = []\n",
    "    predicted_org_strings = []\n",
    "    \n",
    "    for text in df[text_column]:\n",
    "        if pd.isna(text):  # Handle empty or NaN text fields\n",
    "            predicted_org_indices.append([])\n",
    "            predicted_org_strings.append([])\n",
    "            continue\n",
    "        \n",
    "        # Apply NER to the text\n",
    "        doc = nlp(text)\n",
    "        \n",
    "        # Extract ORG entities\n",
    "        org_entities_indices = [(ent.start_char, ent.end_char) for ent in doc.ents if ent.label_ == \"ORG\"]\n",
    "        org_entities_strings = [ent.text for ent in doc.ents if ent.label_ == \"ORG\"]\n",
    "        \n",
    "        predicted_org_indices.append(org_entities_indices)\n",
    "        predicted_org_strings.append(org_entities_strings)\n",
    "    \n",
    "    # Add new columns to the DataFrame\n",
    "    df['predicted_org_indices'] = predicted_org_indices\n",
    "    df['predicted_org_strings'] = predicted_org_strings\n",
    "    \n",
    "    return df\n",
    "\n",
    "\n",
    "# Apply predictions to the 'headline_and_description' column\n",
    "test_df = add_predicted_org_entities_to_df(custom_ner, test_df, 'headline_and_description')\n",
    "\n",
    "def deduplicate_ground_truth(ground_truth_parties):\n",
    "    \"\"\"\n",
    "    Deduplicate ground truth entities based on exact lowercase overlap.\n",
    "\n",
    "    :param ground_truth_parties: List of ground truth party strings.\n",
    "    :return: Deduplicated list of ground truth party strings.\n",
    "    \"\"\"\n",
    "    if not ground_truth_parties or len(ground_truth_parties) == 1:\n",
    "        return ground_truth_parties\n",
    "    \n",
    "    deduplicated = []\n",
    "    seen = set()\n",
    "    \n",
    "    for party in ground_truth_parties:\n",
    "        lowercase_party = party.lower().strip(' ')\n",
    "        if lowercase_party not in seen:\n",
    "            deduplicated.append(party)\n",
    "            seen.add(lowercase_party)\n",
    "        else:\n",
    "            print(f\"Duplicate removed: {party}\")\n",
    "    \n",
    "    return deduplicated\n",
    "\n",
    "test_df['party_labeled'] = test_df['party_labeled'].apply(deduplicate_ground_truth) "
   ]
  },
  {
   "cell_type": "code",
   "execution_count": 464,
   "metadata": {},
   "outputs": [
    {
     "data": {
      "text/html": [
       "<div>\n",
       "<style scoped>\n",
       "    .dataframe tbody tr th:only-of-type {\n",
       "        vertical-align: middle;\n",
       "    }\n",
       "\n",
       "    .dataframe tbody tr th {\n",
       "        vertical-align: top;\n",
       "    }\n",
       "\n",
       "    .dataframe thead th {\n",
       "        text-align: right;\n",
       "    }\n",
       "</style>\n",
       "<table border=\"1\" class=\"dataframe\">\n",
       "  <thead>\n",
       "    <tr style=\"text-align: right;\">\n",
       "      <th></th>\n",
       "      <th>id</th>\n",
       "      <th>file_number</th>\n",
       "      <th>text_pypdf2</th>\n",
       "      <th>headline</th>\n",
       "      <th>description</th>\n",
       "      <th>publication_date</th>\n",
       "      <th>decision_date</th>\n",
       "      <th>case</th>\n",
       "      <th>parties</th>\n",
       "      <th>file_link</th>\n",
       "      <th>corrected_text_4omini_prompt_1</th>\n",
       "      <th>party_labeled</th>\n",
       "      <th>decision_category</th>\n",
       "      <th>headline_and_description</th>\n",
       "      <th>predicted_org_indices</th>\n",
       "      <th>predicted_org_strings</th>\n",
       "    </tr>\n",
       "  </thead>\n",
       "  <tbody>\n",
       "    <tr>\n",
       "      <th>347</th>\n",
       "      <td>id_acm_energy_permit_89</td>\n",
       "      <td>1</td>\n",
       "      <td>acm/de/2017/206454 zaaknummer: 17.0430.53 besl...</td>\n",
       "      <td>Vergunning warmte Greenspread Warmte B.V. komt...</td>\n",
       "      <td>Betreft de naamswijziging van de leveringsverg...</td>\n",
       "      <td>2018-04-06</td>\n",
       "      <td>2017-12-21</td>\n",
       "      <td>ACM/17/043053</td>\n",
       "      <td>NaN</td>\n",
       "      <td>https://www.acm.nl/nl/publicaties/vergunning-w...</td>\n",
       "      <td>{\"corrected_text\":\"acm/de/2017/206454 zaaknumm...</td>\n",
       "      <td>[Greenspread Warmte B.V.,  Eteck Warmte 7 B.V.]</td>\n",
       "      <td>wijziging of aanpassen (amend/modify)</td>\n",
       "      <td>Vergunning warmte Greenspread Warmte B.V. komt...</td>\n",
       "      <td>[(59, 77), (144, 167), (171, 190)]</td>\n",
       "      <td>[Eteck Warmte 7 B.V, Greenspread Warmte B.V., ...</td>\n",
       "    </tr>\n",
       "  </tbody>\n",
       "</table>\n",
       "</div>"
      ],
      "text/plain": [
       "                          id  file_number  \\\n",
       "347  id_acm_energy_permit_89            1   \n",
       "\n",
       "                                           text_pypdf2  \\\n",
       "347  acm/de/2017/206454 zaaknummer: 17.0430.53 besl...   \n",
       "\n",
       "                                              headline  \\\n",
       "347  Vergunning warmte Greenspread Warmte B.V. komt...   \n",
       "\n",
       "                                           description publication_date  \\\n",
       "347  Betreft de naamswijziging van de leveringsverg...       2018-04-06   \n",
       "\n",
       "    decision_date           case parties  \\\n",
       "347    2017-12-21  ACM/17/043053     NaN   \n",
       "\n",
       "                                             file_link  \\\n",
       "347  https://www.acm.nl/nl/publicaties/vergunning-w...   \n",
       "\n",
       "                        corrected_text_4omini_prompt_1  \\\n",
       "347  {\"corrected_text\":\"acm/de/2017/206454 zaaknumm...   \n",
       "\n",
       "                                       party_labeled  \\\n",
       "347  [Greenspread Warmte B.V.,  Eteck Warmte 7 B.V.]   \n",
       "\n",
       "                         decision_category  \\\n",
       "347  wijziging of aanpassen (amend/modify)   \n",
       "\n",
       "                              headline_and_description  \\\n",
       "347  Vergunning warmte Greenspread Warmte B.V. komt...   \n",
       "\n",
       "                  predicted_org_indices  \\\n",
       "347  [(59, 77), (144, 167), (171, 190)]   \n",
       "\n",
       "                                 predicted_org_strings  \n",
       "347  [Eteck Warmte 7 B.V, Greenspread Warmte B.V., ...  "
      ]
     },
     "execution_count": 464,
     "metadata": {},
     "output_type": "execute_result"
    }
   ],
   "source": [
    "pd.set_option('display.max_colwidth', None)\n",
    "pd.reset_option('display.max_colwidth')\n",
    "\n",
    "\n",
    "test_df[test_df['id'] == 'id_acm_energy_permit_89']\n",
    "\n"
   ]
  },
  {
   "cell_type": "code",
   "execution_count": 442,
   "metadata": {},
   "outputs": [
    {
     "data": {
      "text/plain": [
       "54.16666666666667"
      ]
     },
     "execution_count": 442,
     "metadata": {},
     "output_type": "execute_result"
    }
   ],
   "source": [
    "fuzz.ratio('TotalEnergies', 'TotalEnergies en gas Nederland N.V.')"
   ]
  },
  {
   "cell_type": "code",
   "execution_count": 473,
   "metadata": {},
   "outputs": [
    {
     "name": "stdout",
     "output_type": "stream",
     "text": [
      "Precision: 0.93, Recall: 0.78, F1-score: 0.85\n"
     ]
    }
   ],
   "source": [
    "from rapidfuzz import fuzz\n",
    "import pandas as pd\n",
    "\n",
    "\n",
    "def deduplicate_predictions(predicted_parties, threshold=85):\n",
    "    \"\"\"\n",
    "    Recursively deduplicate predicted parties based on similarity, length, and containment.\n",
    "    \"\"\"\n",
    "    if not predicted_parties or len(predicted_parties) == 1:\n",
    "        return predicted_parties\n",
    "    \n",
    "    deduplicated = predicted_parties.copy()\n",
    "    changed = False\n",
    "    \n",
    "    for i in range(len(deduplicated)):\n",
    "        if i >= len(deduplicated):\n",
    "            break\n",
    "        \n",
    "        party_a = deduplicated[i]\n",
    "        \n",
    "        for j in range(i + 1, len(deduplicated)):\n",
    "            if j >= len(deduplicated):\n",
    "                break\n",
    "            \n",
    "            party_b = deduplicated[j]\n",
    "            \n",
    "            # Check for substring containment\n",
    "            if party_a.lower() in party_b.lower() or party_b.lower() in party_a.lower():\n",
    "                if len(party_a) >= len(party_b):\n",
    "                    deduplicated.pop(j)\n",
    "                    changed = True\n",
    "                else:\n",
    "                    deduplicated.pop(i)\n",
    "                    changed = True\n",
    "                    break\n",
    "            \n",
    "            # Check for fuzzy similarity\n",
    "            else:\n",
    "                similarity = fuzz.ratio(party_a.lower(), party_b.lower())\n",
    "                if similarity >= threshold:\n",
    "                    if len(party_a) >= len(party_b):\n",
    "                        deduplicated.pop(j)\n",
    "                        changed = True\n",
    "                    else:\n",
    "                        deduplicated.pop(i)\n",
    "                        changed = True\n",
    "                        break\n",
    "    \n",
    "    if changed:\n",
    "        return deduplicate_predictions(deduplicated, threshold)\n",
    "    \n",
    "    return deduplicated\n",
    "\n",
    "\n",
    "def is_match(pred, true, threshold=80):\n",
    "    \"\"\"\n",
    "    Check if two entities match based on fuzzy matching.\n",
    "    \"\"\"\n",
    "    if pred.lower() == true.lower():\n",
    "        return True\n",
    "    if fuzz.ratio(pred.lower(), true.lower()) >= threshold:\n",
    "        return True\n",
    "    return False\n",
    "\n",
    "\n",
    "def evaluate_parties(df, threshold=50, dedup_threshold=70):\n",
    "    \"\"\"\n",
    "    Evaluate party matching performance for NER results with deduplication and similarity scores.\n",
    "    \"\"\"\n",
    "    tp = 0  # True positives\n",
    "    fn = 0  # False negatives\n",
    "    fp = 0  # False positives\n",
    "    \n",
    "    evaluation_results = []  # To store row-level evaluation details\n",
    "    \n",
    "    for index, row in df.iterrows():\n",
    "        ground_truth_parties = row['party_labeled'] if isinstance(row['party_labeled'], list) else []\n",
    "        predicted_parties = row['predicted_org_strings'] if isinstance(row['predicted_org_strings'], list) else []\n",
    "        \n",
    "        # Step 1: Deduplicate predicted parties\n",
    "        deduplicated_predictions = deduplicate_predictions(predicted_parties, dedup_threshold)\n",
    "        \n",
    "        matched_ground_truth = set()\n",
    "        matched_predictions = set()\n",
    "        similarity_scores = []  # Track similarity scores for each matched pair\n",
    "        \n",
    "        # Step 2: Match deduplicated predictions to ground truth\n",
    "        for i, pred in enumerate(deduplicated_predictions):\n",
    "            for j, gt in enumerate(ground_truth_parties):\n",
    "                similarity = fuzz.ratio(pred.lower(), gt.lower())\n",
    "                if similarity >= threshold and j not in matched_ground_truth:\n",
    "                    matched_ground_truth.add(j)\n",
    "                    matched_predictions.add(i)\n",
    "                    similarity_scores.append({\n",
    "                        'predicted': pred,\n",
    "                        'ground_truth': gt,\n",
    "                        'similarity_score': similarity\n",
    "                    })\n",
    "                    break\n",
    "        \n",
    "        # Step 3: Count TP, FN, FP\n",
    "        tp += len(matched_ground_truth)\n",
    "        fn += len(ground_truth_parties) - len(matched_ground_truth)\n",
    "        fp += len(deduplicated_predictions) - len(matched_predictions)\n",
    "        \n",
    "        # Step 4: Store row-level evaluation results\n",
    "        evaluation_results.append({\n",
    "            'index': index,\n",
    "            'ground_truth_parties': ground_truth_parties,\n",
    "            'predicted_parties': predicted_parties,\n",
    "            'deduplicated_predictions': deduplicated_predictions,\n",
    "            'matched_ground_truth': list(matched_ground_truth),\n",
    "            'matched_predictions': list(matched_predictions),\n",
    "            'similarity_scores': similarity_scores,\n",
    "            'TP': len(matched_ground_truth),\n",
    "            'FN': len(ground_truth_parties) - len(matched_ground_truth),\n",
    "            'FP': len(deduplicated_predictions) - len(matched_predictions)\n",
    "        })\n",
    "    \n",
    "    # Step 5: Calculate Precision, Recall, and F1-Score\n",
    "    precision = tp / (tp + fp) if (tp + fp) > 0 else 0\n",
    "    recall = tp / (tp + fn) if (tp + fn) > 0 else 0\n",
    "    f1 = 2 * (precision * recall) / (precision + recall) if (precision + recall) > 0 else 0\n",
    "    \n",
    "    evaluation_df = pd.DataFrame(evaluation_results)\n",
    "    \n",
    "    return precision, recall, f1, evaluation_df\n",
    "\n",
    "\n",
    "# Example Usage:\n",
    "# Run the Evaluation\n",
    "precision, recall, f1, party_evaluation_df = evaluate_parties(test_df)\n",
    "\n",
    "# Display Results\n",
    "print(f\"Precision: {precision:.2f}, Recall: {recall:.2f}, F1-score: {f1:.2f}\")\n",
    "\n"
   ]
  },
  {
   "cell_type": "code",
   "execution_count": 474,
   "metadata": {},
   "outputs": [
    {
     "data": {
      "text/plain": [
       "[{'predicted': 'Greenspread Warmte B.V.',\n",
       "  'ground_truth': 'Greenspread Warmte B.V.',\n",
       "  'similarity_score': 100.0},\n",
       " {'predicted': 'Eteck Warmte 7 B.V.',\n",
       "  'ground_truth': ' Eteck Warmte 7 B.V.',\n",
       "  'similarity_score': 97.43589743589743}]"
      ]
     },
     "execution_count": 474,
     "metadata": {},
     "output_type": "execute_result"
    }
   ],
   "source": [
    "party_evaluation_df.similarity_scores.iloc[66]"
   ]
  },
  {
   "cell_type": "code",
   "execution_count": 516,
   "metadata": {},
   "outputs": [
    {
     "data": {
      "text/html": [
       "<div>\n",
       "<style scoped>\n",
       "    .dataframe tbody tr th:only-of-type {\n",
       "        vertical-align: middle;\n",
       "    }\n",
       "\n",
       "    .dataframe tbody tr th {\n",
       "        vertical-align: top;\n",
       "    }\n",
       "\n",
       "    .dataframe thead th {\n",
       "        text-align: right;\n",
       "    }\n",
       "</style>\n",
       "<table border=\"1\" class=\"dataframe\">\n",
       "  <thead>\n",
       "    <tr style=\"text-align: right;\">\n",
       "      <th></th>\n",
       "      <th>index</th>\n",
       "      <th>ground_truth_parties</th>\n",
       "      <th>predicted_parties</th>\n",
       "      <th>deduplicated_predictions</th>\n",
       "      <th>TP</th>\n",
       "    </tr>\n",
       "  </thead>\n",
       "  <tbody>\n",
       "    <tr>\n",
       "      <th>44</th>\n",
       "      <td>266</td>\n",
       "      <td>[Linthorst Energie Services B B.V.]</td>\n",
       "      <td>[Energie Services B B.V.]</td>\n",
       "      <td>[Energie Services B B.V.]</td>\n",
       "      <td>1</td>\n",
       "    </tr>\n",
       "    <tr>\n",
       "      <th>17</th>\n",
       "      <td>92</td>\n",
       "      <td>[Allure Energie B.V.]</td>\n",
       "      <td>[Allure Energie, Allure Energie B.V.]</td>\n",
       "      <td>[Allure Energie B.V.]</td>\n",
       "      <td>1</td>\n",
       "    </tr>\n",
       "    <tr>\n",
       "      <th>5</th>\n",
       "      <td>37</td>\n",
       "      <td>[Enstroga B.V.]</td>\n",
       "      <td>[Enstroga, Enstroga]</td>\n",
       "      <td>[Enstroga]</td>\n",
       "      <td>1</td>\n",
       "    </tr>\n",
       "    <tr>\n",
       "      <th>15</th>\n",
       "      <td>87</td>\n",
       "      <td>[ServiceHouse B.V. ]</td>\n",
       "      <td>[ServiceHouse, ServiceHouse B.V.]</td>\n",
       "      <td>[ServiceHouse B.V.]</td>\n",
       "      <td>1</td>\n",
       "    </tr>\n",
       "    <tr>\n",
       "      <th>65</th>\n",
       "      <td>342</td>\n",
       "      <td>[ConceptsnSolutions B.V.]</td>\n",
       "      <td>[ConceptsnSolutions, ConceptsnSolutions B.V.]</td>\n",
       "      <td>[ConceptsnSolutions B.V.]</td>\n",
       "      <td>1</td>\n",
       "    </tr>\n",
       "    <tr>\n",
       "      <th>0</th>\n",
       "      <td>7</td>\n",
       "      <td>[Holthausen Clean Energy B.V.]</td>\n",
       "      <td>[Holthausen Clean Energy, Holthausen Clean Ene...</td>\n",
       "      <td>[Holthausen Clean Energy B.V.]</td>\n",
       "      <td>1</td>\n",
       "    </tr>\n",
       "    <tr>\n",
       "      <th>45</th>\n",
       "      <td>267</td>\n",
       "      <td>[All In Power B.V.]</td>\n",
       "      <td>[All In Power B.V.]</td>\n",
       "      <td>[All In Power B.V.]</td>\n",
       "      <td>1</td>\n",
       "    </tr>\n",
       "    <tr>\n",
       "      <th>19</th>\n",
       "      <td>105</td>\n",
       "      <td>[Republiq Community NL BV]</td>\n",
       "      <td>[Republiq Community NL B.V.]</td>\n",
       "      <td>[Republiq Community NL B.V.]</td>\n",
       "      <td>1</td>\n",
       "    </tr>\n",
       "    <tr>\n",
       "      <th>49</th>\n",
       "      <td>278</td>\n",
       "      <td>[GP Groot]</td>\n",
       "      <td>[GP Groot, GP Groot]</td>\n",
       "      <td>[GP Groot]</td>\n",
       "      <td>1</td>\n",
       "    </tr>\n",
       "    <tr>\n",
       "      <th>40</th>\n",
       "      <td>253</td>\n",
       "      <td>[Kernion Energie B.V.]</td>\n",
       "      <td>[Kernion, Kernion]</td>\n",
       "      <td>[Kernion]</td>\n",
       "      <td>1</td>\n",
       "    </tr>\n",
       "  </tbody>\n",
       "</table>\n",
       "</div>"
      ],
      "text/plain": [
       "    index                 ground_truth_parties  \\\n",
       "44    266  [Linthorst Energie Services B B.V.]   \n",
       "17     92                [Allure Energie B.V.]   \n",
       "5      37                      [Enstroga B.V.]   \n",
       "15     87                 [ServiceHouse B.V. ]   \n",
       "65    342            [ConceptsnSolutions B.V.]   \n",
       "0       7       [Holthausen Clean Energy B.V.]   \n",
       "45    267                  [All In Power B.V.]   \n",
       "19    105           [Republiq Community NL BV]   \n",
       "49    278                           [GP Groot]   \n",
       "40    253               [Kernion Energie B.V.]   \n",
       "\n",
       "                                    predicted_parties  \\\n",
       "44                          [Energie Services B B.V.]   \n",
       "17              [Allure Energie, Allure Energie B.V.]   \n",
       "5                                [Enstroga, Enstroga]   \n",
       "15                  [ServiceHouse, ServiceHouse B.V.]   \n",
       "65      [ConceptsnSolutions, ConceptsnSolutions B.V.]   \n",
       "0   [Holthausen Clean Energy, Holthausen Clean Ene...   \n",
       "45                                [All In Power B.V.]   \n",
       "19                       [Republiq Community NL B.V.]   \n",
       "49                               [GP Groot, GP Groot]   \n",
       "40                                 [Kernion, Kernion]   \n",
       "\n",
       "          deduplicated_predictions  TP  \n",
       "44       [Energie Services B B.V.]   1  \n",
       "17           [Allure Energie B.V.]   1  \n",
       "5                       [Enstroga]   1  \n",
       "15             [ServiceHouse B.V.]   1  \n",
       "65       [ConceptsnSolutions B.V.]   1  \n",
       "0   [Holthausen Clean Energy B.V.]   1  \n",
       "45             [All In Power B.V.]   1  \n",
       "19    [Republiq Community NL B.V.]   1  \n",
       "49                      [GP Groot]   1  \n",
       "40                       [Kernion]   1  "
      ]
     },
     "execution_count": 516,
     "metadata": {},
     "output_type": "execute_result"
    }
   ],
   "source": [
    "x = party_evaluation_df[party_evaluation_df['TP'] == 1][['index', 'ground_truth_parties','predicted_parties','deduplicated_predictions',\n",
    "                                                     'TP']].sample(10, random_state=51)\n",
    "x"
   ]
  },
  {
   "cell_type": "code",
   "execution_count": 517,
   "metadata": {},
   "outputs": [
    {
     "name": "stdout",
     "output_type": "stream",
     "text": [
      "\\begin{tabular}{rlllr}\n",
      "\\toprule\n",
      "index & ground_truth_parties & predicted_parties & deduplicated_predictions & TP \\\\\n",
      "\\midrule\n",
      "266 & ['Linthorst Energie Services B B.V.'] & ['Energie Services B B.V.'] & ['Energie Services B B.V.'] & 1 \\\\\n",
      "92 & ['Allure Energie B.V.'] & ['Allure Energie', 'Allure Energie B.V.'] & ['Allure Energie B.V.'] & 1 \\\\\n",
      "37 & ['Enstroga B.V.'] & ['Enstroga', 'Enstroga'] & ['Enstroga'] & 1 \\\\\n",
      "87 & ['ServiceHouse B.V. '] & ['ServiceHouse', 'ServiceHouse B.V.'] & ['ServiceHouse B.V.'] & 1 \\\\\n",
      "342 & ['ConceptsnSolutions B.V.'] & ['ConceptsnSolutions', 'ConceptsnSolutions B.V.'] & ['ConceptsnSolutions B.V.'] & 1 \\\\\n",
      "7 & ['Holthausen Clean Energy B.V.'] & ['Holthausen Clean Energy', 'Holthausen Clean Energy B.V.'] & ['Holthausen Clean Energy B.V.'] & 1 \\\\\n",
      "267 & ['All In Power B.V.'] & ['All In Power B.V.'] & ['All In Power B.V.'] & 1 \\\\\n",
      "105 & ['Republiq Community NL BV'] & ['Republiq Community NL B.V.'] & ['Republiq Community NL B.V.'] & 1 \\\\\n",
      "278 & ['GP Groot'] & ['GP Groot', 'GP Groot'] & ['GP Groot'] & 1 \\\\\n",
      "253 & ['Kernion Energie B.V.'] & ['Kernion', 'Kernion'] & ['Kernion'] & 1 \\\\\n",
      "\\bottomrule\n",
      "\\end{tabular}\n",
      "\n"
     ]
    }
   ],
   "source": [
    "print(x.to_latex(index=False))"
   ]
  },
  {
   "cell_type": "code",
   "execution_count": 518,
   "metadata": {},
   "outputs": [
    {
     "data": {
      "text/html": [
       "<div>\n",
       "<style scoped>\n",
       "    .dataframe tbody tr th:only-of-type {\n",
       "        vertical-align: middle;\n",
       "    }\n",
       "\n",
       "    .dataframe tbody tr th {\n",
       "        vertical-align: top;\n",
       "    }\n",
       "\n",
       "    .dataframe thead th {\n",
       "        text-align: right;\n",
       "    }\n",
       "</style>\n",
       "<table border=\"1\" class=\"dataframe\">\n",
       "  <thead>\n",
       "    <tr style=\"text-align: right;\">\n",
       "      <th></th>\n",
       "      <th>index</th>\n",
       "      <th>ground_truth_parties</th>\n",
       "      <th>predicted_parties</th>\n",
       "      <th>deduplicated_predictions</th>\n",
       "      <th>FP</th>\n",
       "    </tr>\n",
       "  </thead>\n",
       "  <tbody>\n",
       "    <tr>\n",
       "      <th>8</th>\n",
       "      <td>52</td>\n",
       "      <td>[Cogas Duurzaam B.V.]</td>\n",
       "      <td>[Cogas, Duurzaam]</td>\n",
       "      <td>[Cogas, Duurzaam]</td>\n",
       "      <td>1</td>\n",
       "    </tr>\n",
       "    <tr>\n",
       "      <th>9</th>\n",
       "      <td>56</td>\n",
       "      <td>[GDF SUEZ Energie Nederland N.V.,  ENGIE Energ...</td>\n",
       "      <td>[Energievergunning GDF SUEZ]</td>\n",
       "      <td>[Energievergunning GDF SUEZ]</td>\n",
       "      <td>1</td>\n",
       "    </tr>\n",
       "    <tr>\n",
       "      <th>42</th>\n",
       "      <td>261</td>\n",
       "      <td>[Holthausen Clean Energy B.V.]</td>\n",
       "      <td>[Holthausen Clean Energy, Clean Energy, Clean ...</td>\n",
       "      <td>[Holthausen Clean Energy, Clean Energy B.V.]</td>\n",
       "      <td>1</td>\n",
       "    </tr>\n",
       "    <tr>\n",
       "      <th>62</th>\n",
       "      <td>338</td>\n",
       "      <td>[ E.ON Benelux Levering B.V.,  Eneco Zuid \\r\\n...</td>\n",
       "      <td>[Energievergunning E.ON Benelux]</td>\n",
       "      <td>[Energievergunning E.ON Benelux]</td>\n",
       "      <td>1</td>\n",
       "    </tr>\n",
       "    <tr>\n",
       "      <th>64</th>\n",
       "      <td>341</td>\n",
       "      <td>[Delta Energie B.V.]</td>\n",
       "      <td>[Delta Comfort B.V., Delta Energie B.V, Delta ...</td>\n",
       "      <td>[Delta Comfort B.V., Delta Energie B.V.]</td>\n",
       "      <td>1</td>\n",
       "    </tr>\n",
       "  </tbody>\n",
       "</table>\n",
       "</div>"
      ],
      "text/plain": [
       "    index                               ground_truth_parties  \\\n",
       "8      52                              [Cogas Duurzaam B.V.]   \n",
       "9      56  [GDF SUEZ Energie Nederland N.V.,  ENGIE Energ...   \n",
       "42    261                     [Holthausen Clean Energy B.V.]   \n",
       "62    338  [ E.ON Benelux Levering B.V.,  Eneco Zuid \\r\\n...   \n",
       "64    341                               [Delta Energie B.V.]   \n",
       "\n",
       "                                    predicted_parties  \\\n",
       "8                                   [Cogas, Duurzaam]   \n",
       "9                        [Energievergunning GDF SUEZ]   \n",
       "42  [Holthausen Clean Energy, Clean Energy, Clean ...   \n",
       "62                   [Energievergunning E.ON Benelux]   \n",
       "64  [Delta Comfort B.V., Delta Energie B.V, Delta ...   \n",
       "\n",
       "                        deduplicated_predictions  FP  \n",
       "8                              [Cogas, Duurzaam]   1  \n",
       "9                   [Energievergunning GDF SUEZ]   1  \n",
       "42  [Holthausen Clean Energy, Clean Energy B.V.]   1  \n",
       "62              [Energievergunning E.ON Benelux]   1  \n",
       "64      [Delta Comfort B.V., Delta Energie B.V.]   1  "
      ]
     },
     "execution_count": 518,
     "metadata": {},
     "output_type": "execute_result"
    }
   ],
   "source": [
    "y = party_evaluation_df[party_evaluation_df['FP'] == 1][['index', 'ground_truth_parties','predicted_parties','deduplicated_predictions',\n",
    "                                                     'FP']]\n",
    "y"
   ]
  },
  {
   "cell_type": "code",
   "execution_count": 519,
   "metadata": {},
   "outputs": [
    {
     "name": "stdout",
     "output_type": "stream",
     "text": [
      "\\begin{tabular}{lrlllr}\n",
      "\\toprule\n",
      " & index & ground_truth_parties & predicted_parties & deduplicated_predictions & FP \\\\\n",
      "\\midrule\n",
      "8 & 52 & ['Cogas Duurzaam B.V.'] & ['Cogas', 'Duurzaam'] & ['Cogas', 'Duurzaam'] & 1 \\\\\n",
      "9 & 56 & ['GDF SUEZ Energie Nederland N.V.', ' ENGIE Energie Nederland N.V.'] & ['Energievergunning GDF SUEZ'] & ['Energievergunning GDF SUEZ'] & 1 \\\\\n",
      "42 & 261 & ['Holthausen Clean Energy B.V.'] & ['Holthausen Clean Energy', 'Clean Energy', 'Clean Energy B.V.', 'Clean Energy B.V.'] & ['Holthausen Clean Energy', 'Clean Energy B.V.'] & 1 \\\\\n",
      "62 & 338 & [' E.ON Benelux Levering B.V.', ' Eneco Zuid \\r\\nNederland B.V. '] & ['Energievergunning E.ON Benelux'] & ['Energievergunning E.ON Benelux'] & 1 \\\\\n",
      "64 & 341 & ['Delta Energie B.V.'] & ['Delta Comfort B.V.', 'Delta Energie B.V', 'Delta Comfort B.V.', 'Delta Energie B.V.'] & ['Delta Comfort B.V.', 'Delta Energie B.V.'] & 1 \\\\\n",
      "\\bottomrule\n",
      "\\end{tabular}\n",
      "\n"
     ]
    }
   ],
   "source": [
    "print(y.to_latex(index=False))"
   ]
  },
  {
   "cell_type": "code",
   "execution_count": 523,
   "metadata": {},
   "outputs": [
    {
     "data": {
      "text/html": [
       "<div>\n",
       "<style scoped>\n",
       "    .dataframe tbody tr th:only-of-type {\n",
       "        vertical-align: middle;\n",
       "    }\n",
       "\n",
       "    .dataframe tbody tr th {\n",
       "        vertical-align: top;\n",
       "    }\n",
       "\n",
       "    .dataframe thead th {\n",
       "        text-align: right;\n",
       "    }\n",
       "</style>\n",
       "<table border=\"1\" class=\"dataframe\">\n",
       "  <thead>\n",
       "    <tr style=\"text-align: right;\">\n",
       "      <th></th>\n",
       "      <th>index</th>\n",
       "      <th>ground_truth_parties</th>\n",
       "      <th>predicted_parties</th>\n",
       "      <th>deduplicated_predictions</th>\n",
       "      <th>FN</th>\n",
       "    </tr>\n",
       "  </thead>\n",
       "  <tbody>\n",
       "    <tr>\n",
       "      <th>2</th>\n",
       "      <td>11</td>\n",
       "      <td>[e-Energy Europe B.V.]</td>\n",
       "      <td>[]</td>\n",
       "      <td>[]</td>\n",
       "      <td>1</td>\n",
       "    </tr>\n",
       "    <tr>\n",
       "      <th>3</th>\n",
       "      <td>25</td>\n",
       "      <td>[InEnergie Levering B.V.,  Greenspread Energy ...</td>\n",
       "      <td>[Greenspread Energy, Greenspread Energy B.V]</td>\n",
       "      <td>[Greenspread Energy B.V]</td>\n",
       "      <td>1</td>\n",
       "    </tr>\n",
       "    <tr>\n",
       "      <th>12</th>\n",
       "      <td>72</td>\n",
       "      <td>[Electrabel UnitedConsumers Energie B.V.,  ENG...</td>\n",
       "      <td>[ENGIE UnitedConsumers]</td>\n",
       "      <td>[ENGIE UnitedConsumers]</td>\n",
       "      <td>1</td>\n",
       "    </tr>\n",
       "    <tr>\n",
       "      <th>14</th>\n",
       "      <td>85</td>\n",
       "      <td>[Innova Energie B.V.]</td>\n",
       "      <td>[]</td>\n",
       "      <td>[]</td>\n",
       "      <td>1</td>\n",
       "    </tr>\n",
       "    <tr>\n",
       "      <th>22</th>\n",
       "      <td>125</td>\n",
       "      <td>[Zonneplan Energie \\r\\nB.V.]</td>\n",
       "      <td>[]</td>\n",
       "      <td>[]</td>\n",
       "      <td>1</td>\n",
       "    </tr>\n",
       "    <tr>\n",
       "      <th>24</th>\n",
       "      <td>138</td>\n",
       "      <td>[Kas Energie Nederland B.V.]</td>\n",
       "      <td>[]</td>\n",
       "      <td>[]</td>\n",
       "      <td>1</td>\n",
       "    </tr>\n",
       "    <tr>\n",
       "      <th>26</th>\n",
       "      <td>163</td>\n",
       "      <td>[Hezelaer Energy B.V.]</td>\n",
       "      <td>[]</td>\n",
       "      <td>[]</td>\n",
       "      <td>1</td>\n",
       "    </tr>\n",
       "    <tr>\n",
       "      <th>27</th>\n",
       "      <td>164</td>\n",
       "      <td>[Hezelaer Energy B.V.]</td>\n",
       "      <td>[]</td>\n",
       "      <td>[]</td>\n",
       "      <td>1</td>\n",
       "    </tr>\n",
       "    <tr>\n",
       "      <th>28</th>\n",
       "      <td>173</td>\n",
       "      <td>[Intergas Levering B.V.,  Dong Energy Sales B.V.]</td>\n",
       "      <td>[Dong Energy Sales B.V, Dong Energy Sales B.V.]</td>\n",
       "      <td>[Dong Energy Sales B.V.]</td>\n",
       "      <td>1</td>\n",
       "    </tr>\n",
       "    <tr>\n",
       "      <th>31</th>\n",
       "      <td>219</td>\n",
       "      <td>[FENOR B.V.,  Budget Energie]</td>\n",
       "      <td>[FENOR, FENOR]</td>\n",
       "      <td>[FENOR]</td>\n",
       "      <td>1</td>\n",
       "    </tr>\n",
       "    <tr>\n",
       "      <th>34</th>\n",
       "      <td>230</td>\n",
       "      <td>[Essent Energie Verkoop Nederland B.V.,  Eneco...</td>\n",
       "      <td>[Eneco Midzakelijk, Eneco Midzakelijk]</td>\n",
       "      <td>[Eneco Midzakelijk]</td>\n",
       "      <td>1</td>\n",
       "    </tr>\n",
       "    <tr>\n",
       "      <th>35</th>\n",
       "      <td>231</td>\n",
       "      <td>[Essent Energie Verkoop Nederland B.V.,  Eneco...</td>\n",
       "      <td>[Eneco Midzakelijk, Eneco Midzakelijk]</td>\n",
       "      <td>[Eneco Midzakelijk]</td>\n",
       "      <td>1</td>\n",
       "    </tr>\n",
       "    <tr>\n",
       "      <th>41</th>\n",
       "      <td>257</td>\n",
       "      <td>[Wij Maken Energie B.V.]</td>\n",
       "      <td>[]</td>\n",
       "      <td>[]</td>\n",
       "      <td>1</td>\n",
       "    </tr>\n",
       "    <tr>\n",
       "      <th>53</th>\n",
       "      <td>289</td>\n",
       "      <td>[Kikker Energie B.V.]</td>\n",
       "      <td>[]</td>\n",
       "      <td>[]</td>\n",
       "      <td>1</td>\n",
       "    </tr>\n",
       "  </tbody>\n",
       "</table>\n",
       "</div>"
      ],
      "text/plain": [
       "    index                               ground_truth_parties  \\\n",
       "2      11                             [e-Energy Europe B.V.]   \n",
       "3      25  [InEnergie Levering B.V.,  Greenspread Energy ...   \n",
       "12     72  [Electrabel UnitedConsumers Energie B.V.,  ENG...   \n",
       "14     85                              [Innova Energie B.V.]   \n",
       "22    125                       [Zonneplan Energie \\r\\nB.V.]   \n",
       "24    138                       [Kas Energie Nederland B.V.]   \n",
       "26    163                             [Hezelaer Energy B.V.]   \n",
       "27    164                             [Hezelaer Energy B.V.]   \n",
       "28    173  [Intergas Levering B.V.,  Dong Energy Sales B.V.]   \n",
       "31    219                      [FENOR B.V.,  Budget Energie]   \n",
       "34    230  [Essent Energie Verkoop Nederland B.V.,  Eneco...   \n",
       "35    231  [Essent Energie Verkoop Nederland B.V.,  Eneco...   \n",
       "41    257                           [Wij Maken Energie B.V.]   \n",
       "53    289                              [Kikker Energie B.V.]   \n",
       "\n",
       "                                  predicted_parties  deduplicated_predictions  \\\n",
       "2                                                []                        []   \n",
       "3      [Greenspread Energy, Greenspread Energy B.V]  [Greenspread Energy B.V]   \n",
       "12                          [ENGIE UnitedConsumers]   [ENGIE UnitedConsumers]   \n",
       "14                                               []                        []   \n",
       "22                                               []                        []   \n",
       "24                                               []                        []   \n",
       "26                                               []                        []   \n",
       "27                                               []                        []   \n",
       "28  [Dong Energy Sales B.V, Dong Energy Sales B.V.]  [Dong Energy Sales B.V.]   \n",
       "31                                   [FENOR, FENOR]                   [FENOR]   \n",
       "34           [Eneco Midzakelijk, Eneco Midzakelijk]       [Eneco Midzakelijk]   \n",
       "35           [Eneco Midzakelijk, Eneco Midzakelijk]       [Eneco Midzakelijk]   \n",
       "41                                               []                        []   \n",
       "53                                               []                        []   \n",
       "\n",
       "    FN  \n",
       "2    1  \n",
       "3    1  \n",
       "12   1  \n",
       "14   1  \n",
       "22   1  \n",
       "24   1  \n",
       "26   1  \n",
       "27   1  \n",
       "28   1  \n",
       "31   1  \n",
       "34   1  \n",
       "35   1  \n",
       "41   1  \n",
       "53   1  "
      ]
     },
     "execution_count": 523,
     "metadata": {},
     "output_type": "execute_result"
    }
   ],
   "source": [
    "z = party_evaluation_df[party_evaluation_df['FN']== 1][['index', 'ground_truth_parties','predicted_parties','deduplicated_predictions',\n",
    "                                                     'FN']]\n",
    "z"
   ]
  },
  {
   "cell_type": "code",
   "execution_count": 524,
   "metadata": {},
   "outputs": [
    {
     "name": "stdout",
     "output_type": "stream",
     "text": [
      "\\begin{tabular}{rlllr}\n",
      "\\toprule\n",
      "index & ground_truth_parties & predicted_parties & deduplicated_predictions & FN \\\\\n",
      "\\midrule\n",
      "11 & ['e-Energy Europe B.V.'] & [] & [] & 1 \\\\\n",
      "25 & ['InEnergie Levering B.V.', ' Greenspread Energy B.V.'] & ['Greenspread Energy', 'Greenspread Energy B.V'] & ['Greenspread Energy B.V'] & 1 \\\\\n",
      "72 & ['Electrabel UnitedConsumers Energie B.V.', ' ENGIE UnitedConsumers Energie B.V.'] & ['ENGIE UnitedConsumers'] & ['ENGIE UnitedConsumers'] & 1 \\\\\n",
      "85 & ['Innova Energie B.V.'] & [] & [] & 1 \\\\\n",
      "125 & ['Zonneplan Energie \\r\\nB.V.'] & [] & [] & 1 \\\\\n",
      "138 & ['Kas Energie Nederland B.V.'] & [] & [] & 1 \\\\\n",
      "163 & ['Hezelaer Energy B.V.'] & [] & [] & 1 \\\\\n",
      "164 & ['Hezelaer Energy B.V.'] & [] & [] & 1 \\\\\n",
      "173 & ['Intergas Levering B.V.', ' Dong Energy Sales B.V.'] & ['Dong Energy Sales B.V', 'Dong Energy Sales B.V.'] & ['Dong Energy Sales B.V.'] & 1 \\\\\n",
      "219 & ['FENOR B.V.', ' Budget Energie'] & ['FENOR', 'FENOR'] & ['FENOR'] & 1 \\\\\n",
      "230 & ['Essent Energie Verkoop Nederland B.V.', ' Eneco Midzakelijk B.V.'] & ['Eneco Midzakelijk', 'Eneco Midzakelijk'] & ['Eneco Midzakelijk'] & 1 \\\\\n",
      "231 & ['Essent Energie Verkoop Nederland B.V.', ' Eneco Midzakelijk B.V.'] & ['Eneco Midzakelijk', 'Eneco Midzakelijk'] & ['Eneco Midzakelijk'] & 1 \\\\\n",
      "257 & ['Wij Maken Energie B.V.'] & [] & [] & 1 \\\\\n",
      "289 & ['Kikker Energie B.V.'] & [] & [] & 1 \\\\\n",
      "\\bottomrule\n",
      "\\end{tabular}\n",
      "\n"
     ]
    }
   ],
   "source": [
    "print(z.to_latex(index=False))"
   ]
  },
  {
   "cell_type": "code",
   "execution_count": 526,
   "metadata": {},
   "outputs": [
    {
     "name": "stdout",
     "output_type": "stream",
     "text": [
      "Example 1\n",
      "Original Party (Ground Truth): ['Delta Energy B.V.']\n"
     ]
    },
    {
     "data": {
      "text/html": [
       "<span class=\"tex2jax_ignore\"><h2 style=\"margin: 0\">True Entities</h2>\n",
       "\n",
       "<div class=\"entities\" style=\"line-height: 2.5; direction: ltr\">Besluit intrekking vergunning Delta voor leveren warmte. \n",
       "<mark class=\"entity\" style=\"background: green; padding: 0.45em 0.6em; margin: 0 0.25em; line-height: 1; border-radius: 0.35em;\">\n",
       "    Delta Energy B.V\n",
       "    <span style=\"font-size: 0.8em; font-weight: bold; line-height: 1; border-radius: 0.35em; vertical-align: middle; margin-left: 0.5rem\">ORG</span>\n",
       "</mark>\n",
       ". heeft de ACM verzocht haar vergunning voor de levering van warmte aan kleinverbruikers in te trekken.</div></span>"
      ],
      "text/plain": [
       "<IPython.core.display.HTML object>"
      ]
     },
     "metadata": {},
     "output_type": "display_data"
    },
    {
     "data": {
      "text/html": [
       "<span class=\"tex2jax_ignore\"><h2 style=\"margin: 0\">Predicted Entities</h2>\n",
       "\n",
       "<div class=\"entities\" style=\"line-height: 2.5; direction: ltr\">Besluit intrekking vergunning \n",
       "<mark class=\"entity\" style=\"background: yellow; padding: 0.45em 0.6em; margin: 0 0.25em; line-height: 1; border-radius: 0.35em;\">\n",
       "    Delta\n",
       "    <span style=\"font-size: 0.8em; font-weight: bold; line-height: 1; border-radius: 0.35em; vertical-align: middle; margin-left: 0.5rem\">ORG</span>\n",
       "</mark>\n",
       " voor leveren warmte. \n",
       "<mark class=\"entity\" style=\"background: yellow; padding: 0.45em 0.6em; margin: 0 0.25em; line-height: 1; border-radius: 0.35em;\">\n",
       "    Delta Energy B.V.\n",
       "    <span style=\"font-size: 0.8em; font-weight: bold; line-height: 1; border-radius: 0.35em; vertical-align: middle; margin-left: 0.5rem\">ORG</span>\n",
       "</mark>\n",
       " heeft de ACM verzocht haar vergunning voor de levering van warmte aan kleinverbruikers in te trekken.</div></span>"
      ],
      "text/plain": [
       "<IPython.core.display.HTML object>"
      ]
     },
     "metadata": {},
     "output_type": "display_data"
    },
    {
     "name": "stdout",
     "output_type": "stream",
     "text": [
      "--------------------------------------------------------------------------------\n",
      "Example 2\n",
      "Original Party (Ground Truth): ['e-Energy Europe B.V.']\n"
     ]
    },
    {
     "data": {
      "text/html": [
       "<span class=\"tex2jax_ignore\"><h2 style=\"margin: 0\">True Entities</h2>\n",
       "\n",
       "<div class=\"entities\" style=\"line-height: 2.5; direction: ltr\">\n",
       "<mark class=\"entity\" style=\"background: green; padding: 0.45em 0.6em; margin: 0 0.25em; line-height: 1; border-radius: 0.35em;\">\n",
       "    e-Energy Europe\n",
       "    <span style=\"font-size: 0.8em; font-weight: bold; line-height: 1; border-radius: 0.35em; vertical-align: middle; margin-left: 0.5rem\">ORG</span>\n",
       "</mark>\n",
       " mag elektriciteit leveren aan kleinverbruikers. \n",
       "<mark class=\"entity\" style=\"background: green; padding: 0.45em 0.6em; margin: 0 0.25em; line-height: 1; border-radius: 0.35em;\">\n",
       "    e-Energy Europe B.V\n",
       "    <span style=\"font-size: 0.8em; font-weight: bold; line-height: 1; border-radius: 0.35em; vertical-align: middle; margin-left: 0.5rem\">ORG</span>\n",
       "</mark>\n",
       ". mag elektriciteit leveren aan kleinverbruikers. ACM heeft op 3 maart 2017 hiervoor een vergunning verleend.</div></span>"
      ],
      "text/plain": [
       "<IPython.core.display.HTML object>"
      ]
     },
     "metadata": {},
     "output_type": "display_data"
    },
    {
     "data": {
      "text/html": [
       "<span class=\"tex2jax_ignore\"><h2 style=\"margin: 0\">Predicted Entities</h2>\n",
       "\n",
       "<div class=\"entities\" style=\"line-height: 2.5; direction: ltr\">e-Energy Europe mag elektriciteit leveren aan kleinverbruikers. e-Energy Europe B.V. mag elektriciteit leveren aan kleinverbruikers. ACM heeft op 3 maart 2017 hiervoor een vergunning verleend.</div></span>"
      ],
      "text/plain": [
       "<IPython.core.display.HTML object>"
      ]
     },
     "metadata": {},
     "output_type": "display_data"
    },
    {
     "name": "stdout",
     "output_type": "stream",
     "text": [
      "--------------------------------------------------------------------------------\n",
      "Example 3\n",
      "Original Party (Ground Truth): ['Greenfoot Energy B.V.', ' Energyhouse B.V.']\n"
     ]
    },
    {
     "data": {
      "text/html": [
       "<span class=\"tex2jax_ignore\"><h2 style=\"margin: 0\">True Entities</h2>\n",
       "\n",
       "<div class=\"entities\" style=\"line-height: 2.5; direction: ltr\">Vergunning levering elektriciteit \n",
       "<mark class=\"entity\" style=\"background: green; padding: 0.45em 0.6em; margin: 0 0.25em; line-height: 1; border-radius: 0.35em;\">\n",
       "    Greenfoot Energy B.V\n",
       "    <span style=\"font-size: 0.8em; font-weight: bold; line-height: 1; border-radius: 0.35em; vertical-align: middle; margin-left: 0.5rem\">ORG</span>\n",
       "</mark>\n",
       ". naar \n",
       "<mark class=\"entity\" style=\"background: green; padding: 0.45em 0.6em; margin: 0 0.25em; line-height: 1; border-radius: 0.35em;\">\n",
       "    Energyhouse B.V\n",
       "    <span style=\"font-size: 0.8em; font-weight: bold; line-height: 1; border-radius: 0.35em; vertical-align: middle; margin-left: 0.5rem\">ORG</span>\n",
       "</mark>\n",
       ".. Energievergunning \n",
       "<mark class=\"entity\" style=\"background: green; padding: 0.45em 0.6em; margin: 0 0.25em; line-height: 1; border-radius: 0.35em;\">\n",
       "    Greenfoot Energy B.V\n",
       "    <span style=\"font-size: 0.8em; font-weight: bold; line-height: 1; border-radius: 0.35em; vertical-align: middle; margin-left: 0.5rem\">ORG</span>\n",
       "</mark>\n",
       ". voor het leveren van elektriciteit aan kleinverbruikers komt op naam van \n",
       "<mark class=\"entity\" style=\"background: green; padding: 0.45em 0.6em; margin: 0 0.25em; line-height: 1; border-radius: 0.35em;\">\n",
       "    Energyhouse B.V\n",
       "    <span style=\"font-size: 0.8em; font-weight: bold; line-height: 1; border-radius: 0.35em; vertical-align: middle; margin-left: 0.5rem\">ORG</span>\n",
       "</mark>\n",
       ".</div></span>"
      ],
      "text/plain": [
       "<IPython.core.display.HTML object>"
      ]
     },
     "metadata": {},
     "output_type": "display_data"
    },
    {
     "data": {
      "text/html": [
       "<span class=\"tex2jax_ignore\"><h2 style=\"margin: 0\">Predicted Entities</h2>\n",
       "\n",
       "<div class=\"entities\" style=\"line-height: 2.5; direction: ltr\">Vergunning levering elektriciteit \n",
       "<mark class=\"entity\" style=\"background: yellow; padding: 0.45em 0.6em; margin: 0 0.25em; line-height: 1; border-radius: 0.35em;\">\n",
       "    Greenfoot Energy B.V.\n",
       "    <span style=\"font-size: 0.8em; font-weight: bold; line-height: 1; border-radius: 0.35em; vertical-align: middle; margin-left: 0.5rem\">ORG</span>\n",
       "</mark>\n",
       " naar \n",
       "<mark class=\"entity\" style=\"background: yellow; padding: 0.45em 0.6em; margin: 0 0.25em; line-height: 1; border-radius: 0.35em;\">\n",
       "    Energyhouse B.V\n",
       "    <span style=\"font-size: 0.8em; font-weight: bold; line-height: 1; border-radius: 0.35em; vertical-align: middle; margin-left: 0.5rem\">ORG</span>\n",
       "</mark>\n",
       ".. Energievergunning \n",
       "<mark class=\"entity\" style=\"background: yellow; padding: 0.45em 0.6em; margin: 0 0.25em; line-height: 1; border-radius: 0.35em;\">\n",
       "    Greenfoot Energy B.V.\n",
       "    <span style=\"font-size: 0.8em; font-weight: bold; line-height: 1; border-radius: 0.35em; vertical-align: middle; margin-left: 0.5rem\">ORG</span>\n",
       "</mark>\n",
       " voor het leveren van elektriciteit aan kleinverbruikers komt op naam van \n",
       "<mark class=\"entity\" style=\"background: yellow; padding: 0.45em 0.6em; margin: 0 0.25em; line-height: 1; border-radius: 0.35em;\">\n",
       "    Energyhouse B.V.\n",
       "    <span style=\"font-size: 0.8em; font-weight: bold; line-height: 1; border-radius: 0.35em; vertical-align: middle; margin-left: 0.5rem\">ORG</span>\n",
       "</mark>\n",
       "</div></span>"
      ],
      "text/plain": [
       "<IPython.core.display.HTML object>"
      ]
     },
     "metadata": {},
     "output_type": "display_data"
    },
    {
     "name": "stdout",
     "output_type": "stream",
     "text": [
      "--------------------------------------------------------------------------------\n",
      "Example 4\n",
      "Original Party (Ground Truth): ['Greenfoot Energy B.V.', ' Energyhouse B.V.']\n"
     ]
    },
    {
     "data": {
      "text/html": [
       "<span class=\"tex2jax_ignore\"><h2 style=\"margin: 0\">True Entities</h2>\n",
       "\n",
       "<div class=\"entities\" style=\"line-height: 2.5; direction: ltr\">Vergunning levering gas \n",
       "<mark class=\"entity\" style=\"background: green; padding: 0.45em 0.6em; margin: 0 0.25em; line-height: 1; border-radius: 0.35em;\">\n",
       "    Greenfoot Energy B.V\n",
       "    <span style=\"font-size: 0.8em; font-weight: bold; line-height: 1; border-radius: 0.35em; vertical-align: middle; margin-left: 0.5rem\">ORG</span>\n",
       "</mark>\n",
       ". naar \n",
       "<mark class=\"entity\" style=\"background: green; padding: 0.45em 0.6em; margin: 0 0.25em; line-height: 1; border-radius: 0.35em;\">\n",
       "    Energyhouse B.V\n",
       "    <span style=\"font-size: 0.8em; font-weight: bold; line-height: 1; border-radius: 0.35em; vertical-align: middle; margin-left: 0.5rem\">ORG</span>\n",
       "</mark>\n",
       ".. Energievergunning \n",
       "<mark class=\"entity\" style=\"background: green; padding: 0.45em 0.6em; margin: 0 0.25em; line-height: 1; border-radius: 0.35em;\">\n",
       "    Greenfoot Energy B.V\n",
       "    <span style=\"font-size: 0.8em; font-weight: bold; line-height: 1; border-radius: 0.35em; vertical-align: middle; margin-left: 0.5rem\">ORG</span>\n",
       "</mark>\n",
       ". voor het leveren van gas aan kleinverbruikers komt op naam van \n",
       "<mark class=\"entity\" style=\"background: green; padding: 0.45em 0.6em; margin: 0 0.25em; line-height: 1; border-radius: 0.35em;\">\n",
       "    Energyhouse B.V\n",
       "    <span style=\"font-size: 0.8em; font-weight: bold; line-height: 1; border-radius: 0.35em; vertical-align: middle; margin-left: 0.5rem\">ORG</span>\n",
       "</mark>\n",
       ".</div></span>"
      ],
      "text/plain": [
       "<IPython.core.display.HTML object>"
      ]
     },
     "metadata": {},
     "output_type": "display_data"
    },
    {
     "data": {
      "text/html": [
       "<span class=\"tex2jax_ignore\"><h2 style=\"margin: 0\">Predicted Entities</h2>\n",
       "\n",
       "<div class=\"entities\" style=\"line-height: 2.5; direction: ltr\">Vergunning levering gas \n",
       "<mark class=\"entity\" style=\"background: yellow; padding: 0.45em 0.6em; margin: 0 0.25em; line-height: 1; border-radius: 0.35em;\">\n",
       "    Greenfoot Energy B.V.\n",
       "    <span style=\"font-size: 0.8em; font-weight: bold; line-height: 1; border-radius: 0.35em; vertical-align: middle; margin-left: 0.5rem\">ORG</span>\n",
       "</mark>\n",
       " naar \n",
       "<mark class=\"entity\" style=\"background: yellow; padding: 0.45em 0.6em; margin: 0 0.25em; line-height: 1; border-radius: 0.35em;\">\n",
       "    Energyhouse B.V\n",
       "    <span style=\"font-size: 0.8em; font-weight: bold; line-height: 1; border-radius: 0.35em; vertical-align: middle; margin-left: 0.5rem\">ORG</span>\n",
       "</mark>\n",
       ".. Energievergunning \n",
       "<mark class=\"entity\" style=\"background: yellow; padding: 0.45em 0.6em; margin: 0 0.25em; line-height: 1; border-radius: 0.35em;\">\n",
       "    Greenfoot Energy B.V.\n",
       "    <span style=\"font-size: 0.8em; font-weight: bold; line-height: 1; border-radius: 0.35em; vertical-align: middle; margin-left: 0.5rem\">ORG</span>\n",
       "</mark>\n",
       " voor het leveren van gas aan kleinverbruikers komt op naam van \n",
       "<mark class=\"entity\" style=\"background: yellow; padding: 0.45em 0.6em; margin: 0 0.25em; line-height: 1; border-radius: 0.35em;\">\n",
       "    Energyhouse B.V.\n",
       "    <span style=\"font-size: 0.8em; font-weight: bold; line-height: 1; border-radius: 0.35em; vertical-align: middle; margin-left: 0.5rem\">ORG</span>\n",
       "</mark>\n",
       "</div></span>"
      ],
      "text/plain": [
       "<IPython.core.display.HTML object>"
      ]
     },
     "metadata": {},
     "output_type": "display_data"
    },
    {
     "name": "stdout",
     "output_type": "stream",
     "text": [
      "--------------------------------------------------------------------------------\n",
      "Example 5\n",
      "Original Party (Ground Truth): ['KAS Energie Nederland', ' Kleinverbruik Energie Nederland']\n"
     ]
    },
    {
     "data": {
      "text/html": [
       "<span class=\"tex2jax_ignore\"><h2 style=\"margin: 0\">True Entities</h2>\n",
       "\n",
       "<div class=\"entities\" style=\"line-height: 2.5; direction: ltr\">Vergunning elektriciteit \n",
       "<mark class=\"entity\" style=\"background: green; padding: 0.45em 0.6em; margin: 0 0.25em; line-height: 1; border-radius: 0.35em;\">\n",
       "    KAS Energie Nederland\n",
       "    <span style=\"font-size: 0.8em; font-weight: bold; line-height: 1; border-radius: 0.35em; vertical-align: middle; margin-left: 0.5rem\">ORG</span>\n",
       "</mark>\n",
       " komt op naam van \n",
       "<mark class=\"entity\" style=\"background: green; padding: 0.45em 0.6em; margin: 0 0.25em; line-height: 1; border-radius: 0.35em;\">\n",
       "    Kleinverbruik Energie Nederland\n",
       "    <span style=\"font-size: 0.8em; font-weight: bold; line-height: 1; border-radius: 0.35em; vertical-align: middle; margin-left: 0.5rem\">ORG</span>\n",
       "</mark>\n",
       " (KEN).. Energievergunning \n",
       "<mark class=\"entity\" style=\"background: green; padding: 0.45em 0.6em; margin: 0 0.25em; line-height: 1; border-radius: 0.35em;\">\n",
       "    KAS Energie Nederland\n",
       "    <span style=\"font-size: 0.8em; font-weight: bold; line-height: 1; border-radius: 0.35em; vertical-align: middle; margin-left: 0.5rem\">ORG</span>\n",
       "</mark>\n",
       " voor het leveren van elektriciteit aan kleinverbruikers komt op naam van \n",
       "<mark class=\"entity\" style=\"background: green; padding: 0.45em 0.6em; margin: 0 0.25em; line-height: 1; border-radius: 0.35em;\">\n",
       "    Kleinverbruik Energie Nederland\n",
       "    <span style=\"font-size: 0.8em; font-weight: bold; line-height: 1; border-radius: 0.35em; vertical-align: middle; margin-left: 0.5rem\">ORG</span>\n",
       "</mark>\n",
       ".</div></span>"
      ],
      "text/plain": [
       "<IPython.core.display.HTML object>"
      ]
     },
     "metadata": {},
     "output_type": "display_data"
    },
    {
     "data": {
      "text/html": [
       "<span class=\"tex2jax_ignore\"><h2 style=\"margin: 0\">Predicted Entities</h2>\n",
       "\n",
       "<div class=\"entities\" style=\"line-height: 2.5; direction: ltr\">Vergunning elektriciteit KAS Energie Nederland komt op naam van Kleinverbruik Energie Nederland (KEN).. Energievergunning KAS Energie Nederland voor het leveren van elektriciteit aan kleinverbruikers komt op naam van Kleinverbruik Energie Nederland.</div></span>"
      ],
      "text/plain": [
       "<IPython.core.display.HTML object>"
      ]
     },
     "metadata": {},
     "output_type": "display_data"
    },
    {
     "name": "stdout",
     "output_type": "stream",
     "text": [
      "--------------------------------------------------------------------------------\n",
      "Example 6\n",
      "Original Party (Ground Truth): ['InEnergie Levering B.V.', ' Greenspread Energy B.V.']\n"
     ]
    },
    {
     "data": {
      "text/html": [
       "<span class=\"tex2jax_ignore\"><h2 style=\"margin: 0\">True Entities</h2>\n",
       "\n",
       "<div class=\"entities\" style=\"line-height: 2.5; direction: ltr\">Vergunning gas \n",
       "<mark class=\"entity\" style=\"background: green; padding: 0.45em 0.6em; margin: 0 0.25em; line-height: 1; border-radius: 0.35em;\">\n",
       "    InEnergie Levering\n",
       "    <span style=\"font-size: 0.8em; font-weight: bold; line-height: 1; border-radius: 0.35em; vertical-align: middle; margin-left: 0.5rem\">ORG</span>\n",
       "</mark>\n",
       " komt op naam van \n",
       "<mark class=\"entity\" style=\"background: green; padding: 0.45em 0.6em; margin: 0 0.25em; line-height: 1; border-radius: 0.35em;\">\n",
       "    Greenspread Energy\n",
       "    <span style=\"font-size: 0.8em; font-weight: bold; line-height: 1; border-radius: 0.35em; vertical-align: middle; margin-left: 0.5rem\">ORG</span>\n",
       "</mark>\n",
       ".. Energievergunning \n",
       "<mark class=\"entity\" style=\"background: green; padding: 0.45em 0.6em; margin: 0 0.25em; line-height: 1; border-radius: 0.35em;\">\n",
       "    InEnergie Levering B.V\n",
       "    <span style=\"font-size: 0.8em; font-weight: bold; line-height: 1; border-radius: 0.35em; vertical-align: middle; margin-left: 0.5rem\">ORG</span>\n",
       "</mark>\n",
       ". voor het leveren van gas aan kleinverbruikers komt op naam van \n",
       "<mark class=\"entity\" style=\"background: green; padding: 0.45em 0.6em; margin: 0 0.25em; line-height: 1; border-radius: 0.35em;\">\n",
       "    Greenspread Energy B.V\n",
       "    <span style=\"font-size: 0.8em; font-weight: bold; line-height: 1; border-radius: 0.35em; vertical-align: middle; margin-left: 0.5rem\">ORG</span>\n",
       "</mark>\n",
       "..</div></span>"
      ],
      "text/plain": [
       "<IPython.core.display.HTML object>"
      ]
     },
     "metadata": {},
     "output_type": "display_data"
    },
    {
     "data": {
      "text/html": [
       "<span class=\"tex2jax_ignore\"><h2 style=\"margin: 0\">Predicted Entities</h2>\n",
       "\n",
       "<div class=\"entities\" style=\"line-height: 2.5; direction: ltr\">Vergunning gas InEnergie Levering komt op naam van \n",
       "<mark class=\"entity\" style=\"background: yellow; padding: 0.45em 0.6em; margin: 0 0.25em; line-height: 1; border-radius: 0.35em;\">\n",
       "    Greenspread Energy\n",
       "    <span style=\"font-size: 0.8em; font-weight: bold; line-height: 1; border-radius: 0.35em; vertical-align: middle; margin-left: 0.5rem\">ORG</span>\n",
       "</mark>\n",
       ".. Energievergunning InEnergie Levering B.V. voor het leveren van gas aan kleinverbruikers komt op naam van \n",
       "<mark class=\"entity\" style=\"background: yellow; padding: 0.45em 0.6em; margin: 0 0.25em; line-height: 1; border-radius: 0.35em;\">\n",
       "    Greenspread Energy B.V\n",
       "    <span style=\"font-size: 0.8em; font-weight: bold; line-height: 1; border-radius: 0.35em; vertical-align: middle; margin-left: 0.5rem\">ORG</span>\n",
       "</mark>\n",
       "..</div></span>"
      ],
      "text/plain": [
       "<IPython.core.display.HTML object>"
      ]
     },
     "metadata": {},
     "output_type": "display_data"
    },
    {
     "name": "stdout",
     "output_type": "stream",
     "text": [
      "--------------------------------------------------------------------------------\n",
      "Example 7\n",
      "Original Party (Ground Truth): ['NewEnergy B.V.']\n"
     ]
    },
    {
     "data": {
      "text/html": [
       "<span class=\"tex2jax_ignore\"><h2 style=\"margin: 0\">True Entities</h2>\n",
       "\n",
       "<div class=\"entities\" style=\"line-height: 2.5; direction: ltr\">Intrekking leveringsvergunningen elektriciteit en gas aan kleinverbruikers door \n",
       "<mark class=\"entity\" style=\"background: green; padding: 0.45em 0.6em; margin: 0 0.25em; line-height: 1; border-radius: 0.35em;\">\n",
       "    NewEnergy\n",
       "    <span style=\"font-size: 0.8em; font-weight: bold; line-height: 1; border-radius: 0.35em; vertical-align: middle; margin-left: 0.5rem\">ORG</span>\n",
       "</mark>\n",
       ". De Autoriteit Consument en Markt (ACM) heeft op 31 januari 2024 namens de minister van Economische Zaken en Klimaat de leveringsvergunningen van \n",
       "<mark class=\"entity\" style=\"background: green; padding: 0.45em 0.6em; margin: 0 0.25em; line-height: 1; border-radius: 0.35em;\">\n",
       "    NewEnergy B.V\n",
       "    <span style=\"font-size: 0.8em; font-weight: bold; line-height: 1; border-radius: 0.35em; vertical-align: middle; margin-left: 0.5rem\">ORG</span>\n",
       "</mark>\n",
       ". voor het leveren van elektriciteit en gas aan kleinverbruikers ingetrokken.</div></span>"
      ],
      "text/plain": [
       "<IPython.core.display.HTML object>"
      ]
     },
     "metadata": {},
     "output_type": "display_data"
    },
    {
     "data": {
      "text/html": [
       "<span class=\"tex2jax_ignore\"><h2 style=\"margin: 0\">Predicted Entities</h2>\n",
       "\n",
       "<div class=\"entities\" style=\"line-height: 2.5; direction: ltr\">Intrekking leveringsvergunningen elektriciteit en gas aan kleinverbruikers door \n",
       "<mark class=\"entity\" style=\"background: yellow; padding: 0.45em 0.6em; margin: 0 0.25em; line-height: 1; border-radius: 0.35em;\">\n",
       "    NewEnergy\n",
       "    <span style=\"font-size: 0.8em; font-weight: bold; line-height: 1; border-radius: 0.35em; vertical-align: middle; margin-left: 0.5rem\">ORG</span>\n",
       "</mark>\n",
       ". De Autoriteit Consument en Markt (ACM) heeft op 31 januari 2024 namens de minister van Economische Zaken en Klimaat de leveringsvergunningen van \n",
       "<mark class=\"entity\" style=\"background: yellow; padding: 0.45em 0.6em; margin: 0 0.25em; line-height: 1; border-radius: 0.35em;\">\n",
       "    NewEnergy B.V.\n",
       "    <span style=\"font-size: 0.8em; font-weight: bold; line-height: 1; border-radius: 0.35em; vertical-align: middle; margin-left: 0.5rem\">ORG</span>\n",
       "</mark>\n",
       " voor het leveren van elektriciteit en gas aan kleinverbruikers ingetrokken.</div></span>"
      ],
      "text/plain": [
       "<IPython.core.display.HTML object>"
      ]
     },
     "metadata": {},
     "output_type": "display_data"
    },
    {
     "name": "stdout",
     "output_type": "stream",
     "text": [
      "--------------------------------------------------------------------------------\n",
      "Example 8\n",
      "Original Party (Ground Truth): ['NewEnergy B.V.']\n"
     ]
    },
    {
     "data": {
      "text/html": [
       "<span class=\"tex2jax_ignore\"><h2 style=\"margin: 0\">True Entities</h2>\n",
       "\n",
       "<div class=\"entities\" style=\"line-height: 2.5; direction: ltr\">Intrekking leveringsvergunningen elektriciteit en gas aan kleinverbruikers door \n",
       "<mark class=\"entity\" style=\"background: green; padding: 0.45em 0.6em; margin: 0 0.25em; line-height: 1; border-radius: 0.35em;\">\n",
       "    NewEnergy\n",
       "    <span style=\"font-size: 0.8em; font-weight: bold; line-height: 1; border-radius: 0.35em; vertical-align: middle; margin-left: 0.5rem\">ORG</span>\n",
       "</mark>\n",
       ". De Autoriteit Consument en Markt (ACM) heeft op 31 januari 2024 namens de minister van Economische Zaken en Klimaat de leveringsvergunningen van \n",
       "<mark class=\"entity\" style=\"background: green; padding: 0.45em 0.6em; margin: 0 0.25em; line-height: 1; border-radius: 0.35em;\">\n",
       "    NewEnergy B.V\n",
       "    <span style=\"font-size: 0.8em; font-weight: bold; line-height: 1; border-radius: 0.35em; vertical-align: middle; margin-left: 0.5rem\">ORG</span>\n",
       "</mark>\n",
       ". voor het leveren van elektriciteit en gas aan kleinverbruikers ingetrokken.</div></span>"
      ],
      "text/plain": [
       "<IPython.core.display.HTML object>"
      ]
     },
     "metadata": {},
     "output_type": "display_data"
    },
    {
     "data": {
      "text/html": [
       "<span class=\"tex2jax_ignore\"><h2 style=\"margin: 0\">Predicted Entities</h2>\n",
       "\n",
       "<div class=\"entities\" style=\"line-height: 2.5; direction: ltr\">Intrekking leveringsvergunningen elektriciteit en gas aan kleinverbruikers door \n",
       "<mark class=\"entity\" style=\"background: yellow; padding: 0.45em 0.6em; margin: 0 0.25em; line-height: 1; border-radius: 0.35em;\">\n",
       "    NewEnergy\n",
       "    <span style=\"font-size: 0.8em; font-weight: bold; line-height: 1; border-radius: 0.35em; vertical-align: middle; margin-left: 0.5rem\">ORG</span>\n",
       "</mark>\n",
       ". De Autoriteit Consument en Markt (ACM) heeft op 31 januari 2024 namens de minister van Economische Zaken en Klimaat de leveringsvergunningen van \n",
       "<mark class=\"entity\" style=\"background: yellow; padding: 0.45em 0.6em; margin: 0 0.25em; line-height: 1; border-radius: 0.35em;\">\n",
       "    NewEnergy B.V.\n",
       "    <span style=\"font-size: 0.8em; font-weight: bold; line-height: 1; border-radius: 0.35em; vertical-align: middle; margin-left: 0.5rem\">ORG</span>\n",
       "</mark>\n",
       " voor het leveren van elektriciteit en gas aan kleinverbruikers ingetrokken.</div></span>"
      ],
      "text/plain": [
       "<IPython.core.display.HTML object>"
      ]
     },
     "metadata": {},
     "output_type": "display_data"
    },
    {
     "name": "stdout",
     "output_type": "stream",
     "text": [
      "--------------------------------------------------------------------------------\n",
      "Example 9\n",
      "Original Party (Ground Truth): ['Vaanster III B.V.']\n"
     ]
    },
    {
     "data": {
      "text/html": [
       "<span class=\"tex2jax_ignore\"><h2 style=\"margin: 0\">True Entities</h2>\n",
       "\n",
       "<div class=\"entities\" style=\"line-height: 2.5; direction: ltr\">\n",
       "<mark class=\"entity\" style=\"background: green; padding: 0.45em 0.6em; margin: 0 0.25em; line-height: 1; border-radius: 0.35em;\">\n",
       "    Vaanster III\n",
       "    <span style=\"font-size: 0.8em; font-weight: bold; line-height: 1; border-radius: 0.35em; vertical-align: middle; margin-left: 0.5rem\">ORG</span>\n",
       "</mark>\n",
       " mag warmte leveren aan verbruikers. \n",
       "<mark class=\"entity\" style=\"background: green; padding: 0.45em 0.6em; margin: 0 0.25em; line-height: 1; border-radius: 0.35em;\">\n",
       "    Vaanster III B.V\n",
       "    <span style=\"font-size: 0.8em; font-weight: bold; line-height: 1; border-radius: 0.35em; vertical-align: middle; margin-left: 0.5rem\">ORG</span>\n",
       "</mark>\n",
       ". mag warmte leveren aan verbruikers. ACM heeft hiervoor op 8 maart 2016 een vergunning verleend.</div></span>"
      ],
      "text/plain": [
       "<IPython.core.display.HTML object>"
      ]
     },
     "metadata": {},
     "output_type": "display_data"
    },
    {
     "data": {
      "text/html": [
       "<span class=\"tex2jax_ignore\"><h2 style=\"margin: 0\">Predicted Entities</h2>\n",
       "\n",
       "<div class=\"entities\" style=\"line-height: 2.5; direction: ltr\">\n",
       "<mark class=\"entity\" style=\"background: yellow; padding: 0.45em 0.6em; margin: 0 0.25em; line-height: 1; border-radius: 0.35em;\">\n",
       "    Vaanster III\n",
       "    <span style=\"font-size: 0.8em; font-weight: bold; line-height: 1; border-radius: 0.35em; vertical-align: middle; margin-left: 0.5rem\">ORG</span>\n",
       "</mark>\n",
       " mag warmte leveren aan verbruikers. \n",
       "<mark class=\"entity\" style=\"background: yellow; padding: 0.45em 0.6em; margin: 0 0.25em; line-height: 1; border-radius: 0.35em;\">\n",
       "    Vaanster III B.V.\n",
       "    <span style=\"font-size: 0.8em; font-weight: bold; line-height: 1; border-radius: 0.35em; vertical-align: middle; margin-left: 0.5rem\">ORG</span>\n",
       "</mark>\n",
       " mag warmte leveren aan verbruikers. ACM heeft hiervoor op 8 maart 2016 een vergunning verleend.</div></span>"
      ],
      "text/plain": [
       "<IPython.core.display.HTML object>"
      ]
     },
     "metadata": {},
     "output_type": "display_data"
    },
    {
     "name": "stdout",
     "output_type": "stream",
     "text": [
      "--------------------------------------------------------------------------------\n",
      "Example 10\n",
      "Original Party (Ground Truth): ['Naked Energy B.V.']\n"
     ]
    },
    {
     "data": {
      "text/html": [
       "<span class=\"tex2jax_ignore\"><h2 style=\"margin: 0\">True Entities</h2>\n",
       "\n",
       "<div class=\"entities\" style=\"line-height: 2.5; direction: ltr\">\n",
       "<mark class=\"entity\" style=\"background: green; padding: 0.45em 0.6em; margin: 0 0.25em; line-height: 1; border-radius: 0.35em;\">\n",
       "    Naked Energy\n",
       "    <span style=\"font-size: 0.8em; font-weight: bold; line-height: 1; border-radius: 0.35em; vertical-align: middle; margin-left: 0.5rem\">ORG</span>\n",
       "</mark>\n",
       " mag elektriciteit leveren aan kleinverbruikers. \n",
       "<mark class=\"entity\" style=\"background: green; padding: 0.45em 0.6em; margin: 0 0.25em; line-height: 1; border-radius: 0.35em;\">\n",
       "    Naked Energy\n",
       "    <span style=\"font-size: 0.8em; font-weight: bold; line-height: 1; border-radius: 0.35em; vertical-align: middle; margin-left: 0.5rem\">ORG</span>\n",
       "</mark>\n",
       " mag elektriciteit leveren aan kleinverbruikers. ACM heeft op 11 januari 2016 hiervoor een vergunning verleend.</div></span>"
      ],
      "text/plain": [
       "<IPython.core.display.HTML object>"
      ]
     },
     "metadata": {},
     "output_type": "display_data"
    },
    {
     "data": {
      "text/html": [
       "<span class=\"tex2jax_ignore\"><h2 style=\"margin: 0\">Predicted Entities</h2>\n",
       "\n",
       "<div class=\"entities\" style=\"line-height: 2.5; direction: ltr\">\n",
       "<mark class=\"entity\" style=\"background: yellow; padding: 0.45em 0.6em; margin: 0 0.25em; line-height: 1; border-radius: 0.35em;\">\n",
       "    Naked Energy\n",
       "    <span style=\"font-size: 0.8em; font-weight: bold; line-height: 1; border-radius: 0.35em; vertical-align: middle; margin-left: 0.5rem\">ORG</span>\n",
       "</mark>\n",
       " mag elektriciteit leveren aan kleinverbruikers. \n",
       "<mark class=\"entity\" style=\"background: yellow; padding: 0.45em 0.6em; margin: 0 0.25em; line-height: 1; border-radius: 0.35em;\">\n",
       "    Naked Energy\n",
       "    <span style=\"font-size: 0.8em; font-weight: bold; line-height: 1; border-radius: 0.35em; vertical-align: middle; margin-left: 0.5rem\">ORG</span>\n",
       "</mark>\n",
       " mag elektriciteit leveren aan kleinverbruikers. ACM heeft op 11 januari 2016 hiervoor een vergunning verleend.</div></span>"
      ],
      "text/plain": [
       "<IPython.core.display.HTML object>"
      ]
     },
     "metadata": {},
     "output_type": "display_data"
    },
    {
     "name": "stdout",
     "output_type": "stream",
     "text": [
      "--------------------------------------------------------------------------------\n",
      "Example 11\n",
      "Original Party (Ground Truth): ['powerpeers B.V.']\n"
     ]
    },
    {
     "data": {
      "text/html": [
       "<span class=\"tex2jax_ignore\"><h2 style=\"margin: 0\">True Entities</h2>\n",
       "\n",
       "<div class=\"entities\" style=\"line-height: 2.5; direction: ltr\">\n",
       "<mark class=\"entity\" style=\"background: green; padding: 0.45em 0.6em; margin: 0 0.25em; line-height: 1; border-radius: 0.35em;\">\n",
       "    Powerpeers\n",
       "    <span style=\"font-size: 0.8em; font-weight: bold; line-height: 1; border-radius: 0.35em; vertical-align: middle; margin-left: 0.5rem\">ORG</span>\n",
       "</mark>\n",
       " mag elektriciteit leveren aan kleinverbruikers. \n",
       "<mark class=\"entity\" style=\"background: green; padding: 0.45em 0.6em; margin: 0 0.25em; line-height: 1; border-radius: 0.35em;\">\n",
       "    Powerpeers\n",
       "    <span style=\"font-size: 0.8em; font-weight: bold; line-height: 1; border-radius: 0.35em; vertical-align: middle; margin-left: 0.5rem\">ORG</span>\n",
       "</mark>\n",
       " mag elektriciteit leveren aan kleinverbruikers. ACM heeft op 11 januari 2016 hiervoor een vergunning verleend.</div></span>"
      ],
      "text/plain": [
       "<IPython.core.display.HTML object>"
      ]
     },
     "metadata": {},
     "output_type": "display_data"
    },
    {
     "data": {
      "text/html": [
       "<span class=\"tex2jax_ignore\"><h2 style=\"margin: 0\">Predicted Entities</h2>\n",
       "\n",
       "<div class=\"entities\" style=\"line-height: 2.5; direction: ltr\">\n",
       "<mark class=\"entity\" style=\"background: yellow; padding: 0.45em 0.6em; margin: 0 0.25em; line-height: 1; border-radius: 0.35em;\">\n",
       "    Powerpeers\n",
       "    <span style=\"font-size: 0.8em; font-weight: bold; line-height: 1; border-radius: 0.35em; vertical-align: middle; margin-left: 0.5rem\">ORG</span>\n",
       "</mark>\n",
       " mag elektriciteit leveren aan kleinverbruikers. \n",
       "<mark class=\"entity\" style=\"background: yellow; padding: 0.45em 0.6em; margin: 0 0.25em; line-height: 1; border-radius: 0.35em;\">\n",
       "    Powerpeers\n",
       "    <span style=\"font-size: 0.8em; font-weight: bold; line-height: 1; border-radius: 0.35em; vertical-align: middle; margin-left: 0.5rem\">ORG</span>\n",
       "</mark>\n",
       " mag elektriciteit leveren aan kleinverbruikers. ACM heeft op 11 januari 2016 hiervoor een vergunning verleend.</div></span>"
      ],
      "text/plain": [
       "<IPython.core.display.HTML object>"
      ]
     },
     "metadata": {},
     "output_type": "display_data"
    },
    {
     "name": "stdout",
     "output_type": "stream",
     "text": [
      "--------------------------------------------------------------------------------\n",
      "Example 12\n",
      "Original Party (Ground Truth): ['Innova Energie B.V.']\n"
     ]
    },
    {
     "data": {
      "text/html": [
       "<span class=\"tex2jax_ignore\"><h2 style=\"margin: 0\">True Entities</h2>\n",
       "\n",
       "<div class=\"entities\" style=\"line-height: 2.5; direction: ltr\">Besluit wijziging vergunning \n",
       "<mark class=\"entity\" style=\"background: green; padding: 0.45em 0.6em; margin: 0 0.25em; line-height: 1; border-radius: 0.35em;\">\n",
       "    Innova Energie\n",
       "    <span style=\"font-size: 0.8em; font-weight: bold; line-height: 1; border-radius: 0.35em; vertical-align: middle; margin-left: 0.5rem\">ORG</span>\n",
       "</mark>\n",
       ". Besluit wijziging vergunning \n",
       "<mark class=\"entity\" style=\"background: green; padding: 0.45em 0.6em; margin: 0 0.25em; line-height: 1; border-radius: 0.35em;\">\n",
       "    Innova Energie B.V\n",
       "    <span style=\"font-size: 0.8em; font-weight: bold; line-height: 1; border-radius: 0.35em; vertical-align: middle; margin-left: 0.5rem\">ORG</span>\n",
       "</mark>\n",
       ". door het verbinden van voorschriften aan de organisatorische kwaliteit van Innova.</div></span>"
      ],
      "text/plain": [
       "<IPython.core.display.HTML object>"
      ]
     },
     "metadata": {},
     "output_type": "display_data"
    },
    {
     "data": {
      "text/html": [
       "<span class=\"tex2jax_ignore\"><h2 style=\"margin: 0\">Predicted Entities</h2>\n",
       "\n",
       "<div class=\"entities\" style=\"line-height: 2.5; direction: ltr\">Besluit wijziging vergunning Innova Energie. Besluit wijziging vergunning Innova Energie B.V. door het verbinden van voorschriften aan de organisatorische kwaliteit van Innova.</div></span>"
      ],
      "text/plain": [
       "<IPython.core.display.HTML object>"
      ]
     },
     "metadata": {},
     "output_type": "display_data"
    },
    {
     "name": "stdout",
     "output_type": "stream",
     "text": [
      "--------------------------------------------------------------------------------\n",
      "Example 13\n",
      "Original Party (Ground Truth): ['Eco-Maat Energie B.V.']\n"
     ]
    },
    {
     "data": {
      "text/html": [
       "<span class=\"tex2jax_ignore\"><h2 style=\"margin: 0\">True Entities</h2>\n",
       "\n",
       "<div class=\"entities\" style=\"line-height: 2.5; direction: ltr\">Afwijzing handhavingsverzoek tegen \n",
       "<mark class=\"entity\" style=\"background: green; padding: 0.45em 0.6em; margin: 0 0.25em; line-height: 1; border-radius: 0.35em;\">\n",
       "    Eco-Maat Energie\n",
       "    <span style=\"font-size: 0.8em; font-weight: bold; line-height: 1; border-radius: 0.35em; vertical-align: middle; margin-left: 0.5rem\">ORG</span>\n",
       "</mark>\n",
       ". Aanvrager X heeft ACM gevraagd om handhavend op te treden tegen warmteleverancier \n",
       "<mark class=\"entity\" style=\"background: green; padding: 0.45em 0.6em; margin: 0 0.25em; line-height: 1; border-radius: 0.35em;\">\n",
       "    Eco-Maat Energie B.V\n",
       "    <span style=\"font-size: 0.8em; font-weight: bold; line-height: 1; border-radius: 0.35em; vertical-align: middle; margin-left: 0.5rem\">ORG</span>\n",
       "</mark>\n",
       ". ACM wijst de aanvraag af.</div></span>"
      ],
      "text/plain": [
       "<IPython.core.display.HTML object>"
      ]
     },
     "metadata": {},
     "output_type": "display_data"
    },
    {
     "data": {
      "text/html": [
       "<span class=\"tex2jax_ignore\"><h2 style=\"margin: 0\">Predicted Entities</h2>\n",
       "\n",
       "<div class=\"entities\" style=\"line-height: 2.5; direction: ltr\">Afwijzing handhavingsverzoek tegen \n",
       "<mark class=\"entity\" style=\"background: yellow; padding: 0.45em 0.6em; margin: 0 0.25em; line-height: 1; border-radius: 0.35em;\">\n",
       "    Eco-Maat Energie\n",
       "    <span style=\"font-size: 0.8em; font-weight: bold; line-height: 1; border-radius: 0.35em; vertical-align: middle; margin-left: 0.5rem\">ORG</span>\n",
       "</mark>\n",
       ". Aanvrager X heeft ACM gevraagd om handhavend op te treden tegen warmteleverancier Eco-Maat Energie B.V. ACM wijst de aanvraag af.</div></span>"
      ],
      "text/plain": [
       "<IPython.core.display.HTML object>"
      ]
     },
     "metadata": {},
     "output_type": "display_data"
    },
    {
     "name": "stdout",
     "output_type": "stream",
     "text": [
      "--------------------------------------------------------------------------------\n",
      "Example 14\n",
      "Original Party (Ground Truth): ['De Vrije Energie Producent B.V.']\n"
     ]
    },
    {
     "data": {
      "text/html": [
       "<span class=\"tex2jax_ignore\"><h2 style=\"margin: 0\">True Entities</h2>\n",
       "\n",
       "<div class=\"entities\" style=\"line-height: 2.5; direction: ltr\">\n",
       "<mark class=\"entity\" style=\"background: green; padding: 0.45em 0.6em; margin: 0 0.25em; line-height: 1; border-radius: 0.35em;\">\n",
       "    De Vrije Energie Producent\n",
       "    <span style=\"font-size: 0.8em; font-weight: bold; line-height: 1; border-radius: 0.35em; vertical-align: middle; margin-left: 0.5rem\">ORG</span>\n",
       "</mark>\n",
       " mag gas leveren aan kleinverbruikers. \n",
       "<mark class=\"entity\" style=\"background: green; padding: 0.45em 0.6em; margin: 0 0.25em; line-height: 1; border-radius: 0.35em;\">\n",
       "    De Vrije Energie Producent\n",
       "    <span style=\"font-size: 0.8em; font-weight: bold; line-height: 1; border-radius: 0.35em; vertical-align: middle; margin-left: 0.5rem\">ORG</span>\n",
       "</mark>\n",
       " mag gas leveren aan kleinverbruikers. ACM heeft op 18 november 2014 hiervoor een vergunning verleend.</div></span>"
      ],
      "text/plain": [
       "<IPython.core.display.HTML object>"
      ]
     },
     "metadata": {},
     "output_type": "display_data"
    },
    {
     "data": {
      "text/html": [
       "<span class=\"tex2jax_ignore\"><h2 style=\"margin: 0\">Predicted Entities</h2>\n",
       "\n",
       "<div class=\"entities\" style=\"line-height: 2.5; direction: ltr\">\n",
       "<mark class=\"entity\" style=\"background: yellow; padding: 0.45em 0.6em; margin: 0 0.25em; line-height: 1; border-radius: 0.35em;\">\n",
       "    De Vrije Energie Producent\n",
       "    <span style=\"font-size: 0.8em; font-weight: bold; line-height: 1; border-radius: 0.35em; vertical-align: middle; margin-left: 0.5rem\">ORG</span>\n",
       "</mark>\n",
       " mag gas leveren aan kleinverbruikers. \n",
       "<mark class=\"entity\" style=\"background: yellow; padding: 0.45em 0.6em; margin: 0 0.25em; line-height: 1; border-radius: 0.35em;\">\n",
       "    De Vrije Energie Producent\n",
       "    <span style=\"font-size: 0.8em; font-weight: bold; line-height: 1; border-radius: 0.35em; vertical-align: middle; margin-left: 0.5rem\">ORG</span>\n",
       "</mark>\n",
       " mag gas leveren aan kleinverbruikers. ACM heeft op 18 november 2014 hiervoor een vergunning verleend.</div></span>"
      ],
      "text/plain": [
       "<IPython.core.display.HTML object>"
      ]
     },
     "metadata": {},
     "output_type": "display_data"
    },
    {
     "name": "stdout",
     "output_type": "stream",
     "text": [
      "--------------------------------------------------------------------------------\n",
      "Example 15\n",
      "Original Party (Ground Truth): ['Republiq Community NL BV']\n"
     ]
    },
    {
     "data": {
      "text/html": [
       "<span class=\"tex2jax_ignore\"><h2 style=\"margin: 0\">True Entities</h2>\n",
       "\n",
       "<div class=\"entities\" style=\"line-height: 2.5; direction: ltr\">Energievergunning \n",
       "<mark class=\"entity\" style=\"background: green; padding: 0.45em 0.6em; margin: 0 0.25em; line-height: 1; border-radius: 0.35em;\">\n",
       "    Republiq Community NL B.V\n",
       "    <span style=\"font-size: 0.8em; font-weight: bold; line-height: 1; border-radius: 0.35em; vertical-align: middle; margin-left: 0.5rem\">ORG</span>\n",
       "</mark>\n",
       ". voor leveren elektriciteit aan kleinverbruikers komt op naam van Vandebron Energie B.V.. ACM heeft op 23 oktober 2014 de tenaamstelling van de leveringsvergunning voor elektriciteit van \n",
       "<mark class=\"entity\" style=\"background: green; padding: 0.45em 0.6em; margin: 0 0.25em; line-height: 1; border-radius: 0.35em;\">\n",
       "    Republiq Community NL B.V\n",
       "    <span style=\"font-size: 0.8em; font-weight: bold; line-height: 1; border-radius: 0.35em; vertical-align: middle; margin-left: 0.5rem\">ORG</span>\n",
       "</mark>\n",
       ". gewijzigd in Vandebron Energie B.V.</div></span>"
      ],
      "text/plain": [
       "<IPython.core.display.HTML object>"
      ]
     },
     "metadata": {},
     "output_type": "display_data"
    },
    {
     "data": {
      "text/html": [
       "<span class=\"tex2jax_ignore\"><h2 style=\"margin: 0\">Predicted Entities</h2>\n",
       "\n",
       "<div class=\"entities\" style=\"line-height: 2.5; direction: ltr\">Energievergunning Republiq Community NL B.V. voor leveren elektriciteit aan kleinverbruikers komt op naam van Vandebron Energie B.V.. ACM heeft op 23 oktober 2014 de tenaamstelling van de leveringsvergunning voor elektriciteit van \n",
       "<mark class=\"entity\" style=\"background: yellow; padding: 0.45em 0.6em; margin: 0 0.25em; line-height: 1; border-radius: 0.35em;\">\n",
       "    Republiq Community NL B.V.\n",
       "    <span style=\"font-size: 0.8em; font-weight: bold; line-height: 1; border-radius: 0.35em; vertical-align: middle; margin-left: 0.5rem\">ORG</span>\n",
       "</mark>\n",
       " gewijzigd in Vandebron Energie B.V.</div></span>"
      ],
      "text/plain": [
       "<IPython.core.display.HTML object>"
      ]
     },
     "metadata": {},
     "output_type": "display_data"
    },
    {
     "name": "stdout",
     "output_type": "stream",
     "text": [
      "--------------------------------------------------------------------------------\n",
      "Example 16\n",
      "Original Party (Ground Truth): ['Oxxio Nederland B.V.']\n"
     ]
    },
    {
     "data": {
      "text/html": [
       "<span class=\"tex2jax_ignore\"><h2 style=\"margin: 0\">True Entities</h2>\n",
       "\n",
       "<div class=\"entities\" style=\"line-height: 2.5; direction: ltr\">Wijziging besluit vergunning \n",
       "<mark class=\"entity\" style=\"background: green; padding: 0.45em 0.6em; margin: 0 0.25em; line-height: 1; border-radius: 0.35em;\">\n",
       "    Oxxio Nederland B.V\n",
       "    <span style=\"font-size: 0.8em; font-weight: bold; line-height: 1; border-radius: 0.35em; vertical-align: middle; margin-left: 0.5rem\">ORG</span>\n",
       "</mark>\n",
       ". voor leveren elektriciteit. De vergunning van Oxxio voor het leveren van elektriciteit is op 23 januari 2014 gewijzigd. ACM heeft in dit besluit de aanvullende voorschriften van de vergunning veranderd.</div></span>"
      ],
      "text/plain": [
       "<IPython.core.display.HTML object>"
      ]
     },
     "metadata": {},
     "output_type": "display_data"
    },
    {
     "data": {
      "text/html": [
       "<span class=\"tex2jax_ignore\"><h2 style=\"margin: 0\">Predicted Entities</h2>\n",
       "\n",
       "<div class=\"entities\" style=\"line-height: 2.5; direction: ltr\">Wijziging besluit vergunning \n",
       "<mark class=\"entity\" style=\"background: yellow; padding: 0.45em 0.6em; margin: 0 0.25em; line-height: 1; border-radius: 0.35em;\">\n",
       "    Oxxio Nederland B.V.\n",
       "    <span style=\"font-size: 0.8em; font-weight: bold; line-height: 1; border-radius: 0.35em; vertical-align: middle; margin-left: 0.5rem\">ORG</span>\n",
       "</mark>\n",
       " voor leveren elektriciteit. De vergunning van Oxxio voor het leveren van elektriciteit is op 23 januari 2014 gewijzigd. ACM heeft in dit besluit de aanvullende voorschriften van de vergunning veranderd.</div></span>"
      ],
      "text/plain": [
       "<IPython.core.display.HTML object>"
      ]
     },
     "metadata": {},
     "output_type": "display_data"
    },
    {
     "name": "stdout",
     "output_type": "stream",
     "text": [
      "--------------------------------------------------------------------------------\n",
      "Example 17\n",
      "Original Party (Ground Truth): ['Duurzaam Verbonden 3 B.V.']\n"
     ]
    },
    {
     "data": {
      "text/html": [
       "<span class=\"tex2jax_ignore\"><h2 style=\"margin: 0\">True Entities</h2>\n",
       "\n",
       "<div class=\"entities\" style=\"line-height: 2.5; direction: ltr\">\n",
       "<mark class=\"entity\" style=\"background: green; padding: 0.45em 0.6em; margin: 0 0.25em; line-height: 1; border-radius: 0.35em;\">\n",
       "    Duurzaam Verbonden 3\n",
       "    <span style=\"font-size: 0.8em; font-weight: bold; line-height: 1; border-radius: 0.35em; vertical-align: middle; margin-left: 0.5rem\">ORG</span>\n",
       "</mark>\n",
       " mag warmte leveren aan verbruikers. \n",
       "<mark class=\"entity\" style=\"background: green; padding: 0.45em 0.6em; margin: 0 0.25em; line-height: 1; border-radius: 0.35em;\">\n",
       "    Duurzaam Verbonden 3 B.V\n",
       "    <span style=\"font-size: 0.8em; font-weight: bold; line-height: 1; border-radius: 0.35em; vertical-align: middle; margin-left: 0.5rem\">ORG</span>\n",
       "</mark>\n",
       ". mag warmte leveren aan verbruikers. De ACM heeft hiervoor op 6 juli 2020 een vergunning verleend.</div></span>"
      ],
      "text/plain": [
       "<IPython.core.display.HTML object>"
      ]
     },
     "metadata": {},
     "output_type": "display_data"
    },
    {
     "data": {
      "text/html": [
       "<span class=\"tex2jax_ignore\"><h2 style=\"margin: 0\">Predicted Entities</h2>\n",
       "\n",
       "<div class=\"entities\" style=\"line-height: 2.5; direction: ltr\">\n",
       "<mark class=\"entity\" style=\"background: yellow; padding: 0.45em 0.6em; margin: 0 0.25em; line-height: 1; border-radius: 0.35em;\">\n",
       "    Duurzaam Verbonden 3\n",
       "    <span style=\"font-size: 0.8em; font-weight: bold; line-height: 1; border-radius: 0.35em; vertical-align: middle; margin-left: 0.5rem\">ORG</span>\n",
       "</mark>\n",
       " mag warmte leveren aan verbruikers. \n",
       "<mark class=\"entity\" style=\"background: yellow; padding: 0.45em 0.6em; margin: 0 0.25em; line-height: 1; border-radius: 0.35em;\">\n",
       "    Duurzaam Verbonden 3 B.V.\n",
       "    <span style=\"font-size: 0.8em; font-weight: bold; line-height: 1; border-radius: 0.35em; vertical-align: middle; margin-left: 0.5rem\">ORG</span>\n",
       "</mark>\n",
       " mag warmte leveren aan verbruikers. De ACM heeft hiervoor op 6 juli 2020 een vergunning verleend.</div></span>"
      ],
      "text/plain": [
       "<IPython.core.display.HTML object>"
      ]
     },
     "metadata": {},
     "output_type": "display_data"
    },
    {
     "name": "stdout",
     "output_type": "stream",
     "text": [
      "--------------------------------------------------------------------------------\n",
      "Example 18\n",
      "Original Party (Ground Truth): ['Kas Energie Nederland B.V.']\n"
     ]
    },
    {
     "data": {
      "text/html": [
       "<span class=\"tex2jax_ignore\"><h2 style=\"margin: 0\">True Entities</h2>\n",
       "\n",
       "<div class=\"entities\" style=\"line-height: 2.5; direction: ltr\">\n",
       "<mark class=\"entity\" style=\"background: green; padding: 0.45em 0.6em; margin: 0 0.25em; line-height: 1; border-radius: 0.35em;\">\n",
       "    Kas Energie Nederland B.V\n",
       "    <span style=\"font-size: 0.8em; font-weight: bold; line-height: 1; border-radius: 0.35em; vertical-align: middle; margin-left: 0.5rem\">ORG</span>\n",
       "</mark>\n",
       ". mag gas leveren aan kleinverbruikers. \n",
       "<mark class=\"entity\" style=\"background: green; padding: 0.45em 0.6em; margin: 0 0.25em; line-height: 1; border-radius: 0.35em;\">\n",
       "    Kas Energie Nederland B.V\n",
       "    <span style=\"font-size: 0.8em; font-weight: bold; line-height: 1; border-radius: 0.35em; vertical-align: middle; margin-left: 0.5rem\">ORG</span>\n",
       "</mark>\n",
       ". mag gas leveren aan kleinverbruikers. ACM heeft op 25 juli 2013 hiervoor een vergunning verleend.</div></span>"
      ],
      "text/plain": [
       "<IPython.core.display.HTML object>"
      ]
     },
     "metadata": {},
     "output_type": "display_data"
    },
    {
     "data": {
      "text/html": [
       "<span class=\"tex2jax_ignore\"><h2 style=\"margin: 0\">Predicted Entities</h2>\n",
       "\n",
       "<div class=\"entities\" style=\"line-height: 2.5; direction: ltr\">Kas Energie Nederland B.V. mag gas leveren aan kleinverbruikers. Kas Energie Nederland B.V. mag gas leveren aan kleinverbruikers. ACM heeft op 25 juli 2013 hiervoor een vergunning verleend.</div></span>"
      ],
      "text/plain": [
       "<IPython.core.display.HTML object>"
      ]
     },
     "metadata": {},
     "output_type": "display_data"
    },
    {
     "name": "stdout",
     "output_type": "stream",
     "text": [
      "--------------------------------------------------------------------------------\n",
      "Example 19\n",
      "Original Party (Ground Truth): ['Hello Yellow B.V.']\n"
     ]
    },
    {
     "data": {
      "text/html": [
       "<span class=\"tex2jax_ignore\"><h2 style=\"margin: 0\">True Entities</h2>\n",
       "\n",
       "<div class=\"entities\" style=\"line-height: 2.5; direction: ltr\">\n",
       "<mark class=\"entity\" style=\"background: green; padding: 0.45em 0.6em; margin: 0 0.25em; line-height: 1; border-radius: 0.35em;\">\n",
       "    Hello Yellow B.V\n",
       "    <span style=\"font-size: 0.8em; font-weight: bold; line-height: 1; border-radius: 0.35em; vertical-align: middle; margin-left: 0.5rem\">ORG</span>\n",
       "</mark>\n",
       ". mag gas leveren aan kleinverbruikers. \n",
       "<mark class=\"entity\" style=\"background: green; padding: 0.45em 0.6em; margin: 0 0.25em; line-height: 1; border-radius: 0.35em;\">\n",
       "    Hello Yellow B.V\n",
       "    <span style=\"font-size: 0.8em; font-weight: bold; line-height: 1; border-radius: 0.35em; vertical-align: middle; margin-left: 0.5rem\">ORG</span>\n",
       "</mark>\n",
       ". mag gas leveren aan kleinverbruikers. ACM heeft op 7 mei 2013 hiervoor een vergunning verleend.</div></span>"
      ],
      "text/plain": [
       "<IPython.core.display.HTML object>"
      ]
     },
     "metadata": {},
     "output_type": "display_data"
    },
    {
     "data": {
      "text/html": [
       "<span class=\"tex2jax_ignore\"><h2 style=\"margin: 0\">Predicted Entities</h2>\n",
       "\n",
       "<div class=\"entities\" style=\"line-height: 2.5; direction: ltr\">\n",
       "<mark class=\"entity\" style=\"background: yellow; padding: 0.45em 0.6em; margin: 0 0.25em; line-height: 1; border-radius: 0.35em;\">\n",
       "    Hello Yellow B.V.\n",
       "    <span style=\"font-size: 0.8em; font-weight: bold; line-height: 1; border-radius: 0.35em; vertical-align: middle; margin-left: 0.5rem\">ORG</span>\n",
       "</mark>\n",
       " mag gas leveren aan kleinverbruikers. \n",
       "<mark class=\"entity\" style=\"background: yellow; padding: 0.45em 0.6em; margin: 0 0.25em; line-height: 1; border-radius: 0.35em;\">\n",
       "    Hello Yellow B.V.\n",
       "    <span style=\"font-size: 0.8em; font-weight: bold; line-height: 1; border-radius: 0.35em; vertical-align: middle; margin-left: 0.5rem\">ORG</span>\n",
       "</mark>\n",
       " mag gas leveren aan kleinverbruikers. ACM heeft op 7 mei 2013 hiervoor een vergunning verleend.</div></span>"
      ],
      "text/plain": [
       "<IPython.core.display.HTML object>"
      ]
     },
     "metadata": {},
     "output_type": "display_data"
    },
    {
     "name": "stdout",
     "output_type": "stream",
     "text": [
      "--------------------------------------------------------------------------------\n",
      "Example 20\n",
      "Original Party (Ground Truth): ['Hezelaer Energy B.V.']\n"
     ]
    },
    {
     "data": {
      "text/html": [
       "<span class=\"tex2jax_ignore\"><h2 style=\"margin: 0\">True Entities</h2>\n",
       "\n",
       "<div class=\"entities\" style=\"line-height: 2.5; direction: ltr\">\n",
       "<mark class=\"entity\" style=\"background: green; padding: 0.45em 0.6em; margin: 0 0.25em; line-height: 1; border-radius: 0.35em;\">\n",
       "    Hezelaer Energy B.V\n",
       "    <span style=\"font-size: 0.8em; font-weight: bold; line-height: 1; border-radius: 0.35em; vertical-align: middle; margin-left: 0.5rem\">ORG</span>\n",
       "</mark>\n",
       ". mag gas leveren aan kleinverbruikers. \n",
       "<mark class=\"entity\" style=\"background: green; padding: 0.45em 0.6em; margin: 0 0.25em; line-height: 1; border-radius: 0.35em;\">\n",
       "    Hezelaer Energy B.V\n",
       "    <span style=\"font-size: 0.8em; font-weight: bold; line-height: 1; border-radius: 0.35em; vertical-align: middle; margin-left: 0.5rem\">ORG</span>\n",
       "</mark>\n",
       ". mag gas leveren aan kleinverbruikers. ACM heeft op 8 mei 2013 hiervoor een vergunning verleend.</div></span>"
      ],
      "text/plain": [
       "<IPython.core.display.HTML object>"
      ]
     },
     "metadata": {},
     "output_type": "display_data"
    },
    {
     "data": {
      "text/html": [
       "<span class=\"tex2jax_ignore\"><h2 style=\"margin: 0\">Predicted Entities</h2>\n",
       "\n",
       "<div class=\"entities\" style=\"line-height: 2.5; direction: ltr\">Hezelaer Energy B.V. mag gas leveren aan kleinverbruikers. Hezelaer Energy B.V. mag gas leveren aan kleinverbruikers. ACM heeft op 8 mei 2013 hiervoor een vergunning verleend.</div></span>"
      ],
      "text/plain": [
       "<IPython.core.display.HTML object>"
      ]
     },
     "metadata": {},
     "output_type": "display_data"
    },
    {
     "name": "stdout",
     "output_type": "stream",
     "text": [
      "--------------------------------------------------------------------------------\n"
     ]
    }
   ],
   "source": [
    "from spacy import displacy\n",
    "\n",
    "def visualize_test_examples_with_displacy(nlp, test_data, num_examples=5):\n",
    "    \"\"\"\n",
    "    Visualizes true and predicted entities from the test set using spaCy's displacy.\n",
    "\n",
    "    :param nlp: The trained spaCy model.\n",
    "    :param test_data: List of test examples in the format (headline, entities, original_party).\n",
    "    :param num_examples: Number of examples to visualize.\n",
    "    \"\"\"\n",
    "    examples_shown = 0\n",
    "\n",
    "    # Define custom color options\n",
    "    ground_truth_colors = {\"ORG\": \"green\"}\n",
    "    predicted_colors = {\"ORG\": \"yellow\"}\n",
    "\n",
    "    for headline, entities, original_party in test_data:\n",
    "        # Stop if the desired number of examples is reached\n",
    "        if examples_shown >= num_examples:\n",
    "            break\n",
    "\n",
    "        # Print metadata\n",
    "        print(f\"Example {examples_shown + 1}\")\n",
    "        print(f\"Original Party (Ground Truth): {original_party}\")\n",
    "        #print(f\"Headline: {headline}\")\n",
    "        \n",
    "        # True entities visualization\n",
    "        true_ents = [{\"start\": start, \"end\": end, \"label\": label} for start, end, label in entities]\n",
    "        true_render = {\"text\": headline, \"ents\": true_ents, \"title\": \"True Entities\"}\n",
    "        displacy.render(true_render, style=\"ent\", manual=True, jupyter=True, options={\"colors\": ground_truth_colors})\n",
    "\n",
    "        # Predicted entities visualization\n",
    "        doc = nlp(headline)\n",
    "        predicted_ents = [{\"start\": ent.start_char, \"end\": ent.end_char, \"label\": ent.label_} for ent in doc.ents]\n",
    "        predicted_render = {\"text\": headline, \"ents\": predicted_ents, \"title\": \"Predicted Entities\"}\n",
    "        displacy.render(predicted_render, style=\"ent\", manual=True, jupyter=True, options={\"colors\": predicted_colors})\n",
    "\n",
    "        print(\"-\" * 80)  # Separator between examples\n",
    "        examples_shown += 1\n",
    "\n",
    "# Visualize examples\n",
    "visualize_test_examples_with_displacy(custom_ner, NER_LABELS_SPACY_TEST, num_examples=20)"
   ]
  },
  {
   "cell_type": "code",
   "execution_count": null,
   "metadata": {},
   "outputs": [],
   "source": []
  }
 ],
 "metadata": {
  "kernelspec": {
   "display_name": "Python 3",
   "language": "python",
   "name": "python3"
  },
  "language_info": {
   "codemirror_mode": {
    "name": "ipython",
    "version": 3
   },
   "file_extension": ".py",
   "mimetype": "text/x-python",
   "name": "python",
   "nbconvert_exporter": "python",
   "pygments_lexer": "ipython3",
   "version": "3.12.5"
  }
 },
 "nbformat": 4,
 "nbformat_minor": 2
}
